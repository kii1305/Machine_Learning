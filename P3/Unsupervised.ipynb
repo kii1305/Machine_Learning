{
 "cells": [
  {
   "cell_type": "code",
   "execution_count": 3,
   "id": "ecbff3d6",
   "metadata": {},
   "outputs": [
    {
     "name": "stdout",
     "output_type": "stream",
     "text": [
      "Shape: (10, 4)\n"
     ]
    }
   ],
   "source": [
    "import pandas as pd\n",
    "from sklearn.preprocessing import StandardScaler\n",
    "\n",
    "df = pd.read_csv(\"pelanggan_p3.csv\")\n",
    "X = df.copy() #Semua kolom sebagai fitur\n",
    "scaler = StandardScaler()\n",
    "Xs = scaler.fit_transform(X)\n",
    "print(\"Shape:\", Xs.shape)"
   ]
  },
  {
   "cell_type": "code",
   "execution_count": 4,
   "id": "03a04629",
   "metadata": {},
   "outputs": [
    {
     "name": "stdout",
     "output_type": "stream",
     "text": [
      "[(2, 7.087571794044125), (3, 3.3302913575817144), (4, 2.141192852356917), (5, 1.1864623938233667), (6, 0.6469385688304635)]\n"
     ]
    }
   ],
   "source": [
    "from sklearn.cluster import KMeans\n",
    "import numpy as np\n",
    "\n",
    "inertias = []\n",
    "K = range(2,7) # uji 2 sampai 6 cluster\n",
    "for k in K:\n",
    "    km = KMeans(n_clusters=k, n_init=10, random_state=42)\n",
    "    km.fit(Xs)\n",
    "    inertias.append(km.inertia_)\n",
    "\n",
    "print(list(zip(K, inertias)))"
   ]
  },
  {
   "cell_type": "code",
   "execution_count": 5,
   "id": "cbbad122",
   "metadata": {},
   "outputs": [
    {
     "name": "stdout",
     "output_type": "stream",
     "text": [
      "[(2, 0.6803368333726274), (3, 0.5422452366639916), (4, 0.39064454422203554), (5, 0.3079660982667852), (6, 0.3217777844665567)]\n"
     ]
    }
   ],
   "source": [
    "from sklearn.metrics import silhouette_score\n",
    "scores = []\n",
    "for k in K:\n",
    "    km = KMeans(n_clusters=k, n_init=10, random_state=42)\n",
    "    labels = km.fit_predict(Xs)\n",
    "    scores.append(silhouette_score(Xs, labels))\n",
    "print(list(zip(K, scores)))"
   ]
  },
  {
   "cell_type": "code",
   "execution_count": 6,
   "id": "424ac682",
   "metadata": {},
   "outputs": [
    {
     "name": "stdout",
     "output_type": "stream",
     "text": [
      "   Jumlah_Pembelian  Total_Pengeluaran  Frekuensi_Kunjungan  Usia  Cluster\n",
      "0                10             500000                    8    25        2\n",
      "1                 3             100000                    3    45        1\n",
      "2                12             600000                   10    32        0\n",
      "3                 1              50000                    1    50        1\n",
      "4                 8             400000                    6    28        2\n"
     ]
    }
   ],
   "source": [
    "best_k = 3  # pilih berdasar elbow + silhouette + intuisi bisnis\n",
    "kfinal = KMeans(n_clusters=best_k, n_init=10, random_state=42)\n",
    "df[\"Cluster\"] = kfinal.fit_predict(Xs)\n",
    "print(df.head())"
   ]
  },
  {
   "cell_type": "code",
   "execution_count": 7,
   "id": "46c0729c",
   "metadata": {},
   "outputs": [
    {
     "name": "stdout",
     "output_type": "stream",
     "text": [
      "         Jumlah_Pembelian  Total_Pengeluaran  Frekuensi_Kunjungan   Usia\n",
      "Cluster                                                                 \n",
      "0                   13.50           675000.0                 11.0  31.00\n",
      "1                    2.75           107500.0                  2.5  45.75\n",
      "2                    9.50           467500.0                  7.5  27.25\n"
     ]
    }
   ],
   "source": [
    "summary = df.groupby(\"Cluster\").agg({\n",
    "    \"Jumlah_Pembelian\":\"mean\",\n",
    "    \"Total_Pengeluaran\":\"mean\",\n",
    "    \"Frekuensi_Kunjungan\":\"mean\",\n",
    "    \"Usia\":\"mean\"\n",
    "}).round(2)\n",
    "print(summary)"
   ]
  },
  {
   "cell_type": "code",
   "execution_count": null,
   "id": "6ef293d1",
   "metadata": {},
   "outputs": [],
   "source": []
  }
 ],
 "metadata": {
  "kernelspec": {
   "display_name": ".venv",
   "language": "python",
   "name": "python3"
  },
  "language_info": {
   "codemirror_mode": {
    "name": "ipython",
    "version": 3
   },
   "file_extension": ".py",
   "mimetype": "text/x-python",
   "name": "python",
   "nbconvert_exporter": "python",
   "pygments_lexer": "ipython3",
   "version": "3.10.11"
  }
 },
 "nbformat": 4,
 "nbformat_minor": 5
}
