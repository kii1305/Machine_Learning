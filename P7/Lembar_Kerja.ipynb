{
 "cells": [
  {
   "cell_type": "code",
   "execution_count": 3,
   "id": "ed0f06f0",
   "metadata": {},
   "outputs": [
    {
     "name": "stdout",
     "output_type": "stream",
     "text": [
      "(7, 5) (1, 5) (2, 5)\n"
     ]
    }
   ],
   "source": [
    "import pandas as pd\n",
    "from sklearn.model_selection import train_test_split\n",
    "from sklearn.preprocessing import StandardScaler\n",
    "\n",
    "df = pd.read_csv(\"D:\\machine_learning\\P4_P5_P6\\processed_kelulusan.csv\")\n",
    "X = df.drop(\"Lulus\", axis=1)\n",
    "y = df[\"Lulus\"]\n",
    "\n",
    "sc = StandardScaler()\n",
    "Xs = sc.fit_transform(X)\n",
    "\n",
    "X_train, X_temp, y_train, y_temp = train_test_split(\n",
    "    Xs, y, test_size=0.3, stratify=y, random_state=42)\n",
    "X_val, X_test, y_val, y_test = train_test_split(\n",
    "    X_temp, y_temp, test_size=0.5, random_state=42)\n",
    "\n",
    "print(X_train.shape, X_val.shape, X_test.shape)"
   ]
  },
  {
   "cell_type": "code",
   "execution_count": 4,
   "id": "d4771fa1",
   "metadata": {},
   "outputs": [
    {
     "data": {
      "text/html": [
       "<pre style=\"white-space:pre;overflow-x:auto;line-height:normal;font-family:Menlo,'DejaVu Sans Mono',consolas,'Courier New',monospace\"><span style=\"font-weight: bold\">Model: \"sequential\"</span>\n",
       "</pre>\n"
      ],
      "text/plain": [
       "\u001b[1mModel: \"sequential\"\u001b[0m\n"
      ]
     },
     "metadata": {},
     "output_type": "display_data"
    },
    {
     "data": {
      "text/html": [
       "<pre style=\"white-space:pre;overflow-x:auto;line-height:normal;font-family:Menlo,'DejaVu Sans Mono',consolas,'Courier New',monospace\">┏━━━━━━━━━━━━━━━━━━━━━━━━━━━━━━━━━┳━━━━━━━━━━━━━━━━━━━━━━━━┳━━━━━━━━━━━━━━━┓\n",
       "┃<span style=\"font-weight: bold\"> Layer (type)                    </span>┃<span style=\"font-weight: bold\"> Output Shape           </span>┃<span style=\"font-weight: bold\">       Param # </span>┃\n",
       "┡━━━━━━━━━━━━━━━━━━━━━━━━━━━━━━━━━╇━━━━━━━━━━━━━━━━━━━━━━━━╇━━━━━━━━━━━━━━━┩\n",
       "│ dense (<span style=\"color: #0087ff; text-decoration-color: #0087ff\">Dense</span>)                   │ (<span style=\"color: #00d7ff; text-decoration-color: #00d7ff\">None</span>, <span style=\"color: #00af00; text-decoration-color: #00af00\">32</span>)             │           <span style=\"color: #00af00; text-decoration-color: #00af00\">192</span> │\n",
       "├─────────────────────────────────┼────────────────────────┼───────────────┤\n",
       "│ dropout (<span style=\"color: #0087ff; text-decoration-color: #0087ff\">Dropout</span>)               │ (<span style=\"color: #00d7ff; text-decoration-color: #00d7ff\">None</span>, <span style=\"color: #00af00; text-decoration-color: #00af00\">32</span>)             │             <span style=\"color: #00af00; text-decoration-color: #00af00\">0</span> │\n",
       "├─────────────────────────────────┼────────────────────────┼───────────────┤\n",
       "│ dense_1 (<span style=\"color: #0087ff; text-decoration-color: #0087ff\">Dense</span>)                 │ (<span style=\"color: #00d7ff; text-decoration-color: #00d7ff\">None</span>, <span style=\"color: #00af00; text-decoration-color: #00af00\">16</span>)             │           <span style=\"color: #00af00; text-decoration-color: #00af00\">528</span> │\n",
       "├─────────────────────────────────┼────────────────────────┼───────────────┤\n",
       "│ dense_2 (<span style=\"color: #0087ff; text-decoration-color: #0087ff\">Dense</span>)                 │ (<span style=\"color: #00d7ff; text-decoration-color: #00d7ff\">None</span>, <span style=\"color: #00af00; text-decoration-color: #00af00\">1</span>)              │            <span style=\"color: #00af00; text-decoration-color: #00af00\">17</span> │\n",
       "└─────────────────────────────────┴────────────────────────┴───────────────┘\n",
       "</pre>\n"
      ],
      "text/plain": [
       "┏━━━━━━━━━━━━━━━━━━━━━━━━━━━━━━━━━┳━━━━━━━━━━━━━━━━━━━━━━━━┳━━━━━━━━━━━━━━━┓\n",
       "┃\u001b[1m \u001b[0m\u001b[1mLayer (type)                   \u001b[0m\u001b[1m \u001b[0m┃\u001b[1m \u001b[0m\u001b[1mOutput Shape          \u001b[0m\u001b[1m \u001b[0m┃\u001b[1m \u001b[0m\u001b[1m      Param #\u001b[0m\u001b[1m \u001b[0m┃\n",
       "┡━━━━━━━━━━━━━━━━━━━━━━━━━━━━━━━━━╇━━━━━━━━━━━━━━━━━━━━━━━━╇━━━━━━━━━━━━━━━┩\n",
       "│ dense (\u001b[38;5;33mDense\u001b[0m)                   │ (\u001b[38;5;45mNone\u001b[0m, \u001b[38;5;34m32\u001b[0m)             │           \u001b[38;5;34m192\u001b[0m │\n",
       "├─────────────────────────────────┼────────────────────────┼───────────────┤\n",
       "│ dropout (\u001b[38;5;33mDropout\u001b[0m)               │ (\u001b[38;5;45mNone\u001b[0m, \u001b[38;5;34m32\u001b[0m)             │             \u001b[38;5;34m0\u001b[0m │\n",
       "├─────────────────────────────────┼────────────────────────┼───────────────┤\n",
       "│ dense_1 (\u001b[38;5;33mDense\u001b[0m)                 │ (\u001b[38;5;45mNone\u001b[0m, \u001b[38;5;34m16\u001b[0m)             │           \u001b[38;5;34m528\u001b[0m │\n",
       "├─────────────────────────────────┼────────────────────────┼───────────────┤\n",
       "│ dense_2 (\u001b[38;5;33mDense\u001b[0m)                 │ (\u001b[38;5;45mNone\u001b[0m, \u001b[38;5;34m1\u001b[0m)              │            \u001b[38;5;34m17\u001b[0m │\n",
       "└─────────────────────────────────┴────────────────────────┴───────────────┘\n"
      ]
     },
     "metadata": {},
     "output_type": "display_data"
    },
    {
     "data": {
      "text/html": [
       "<pre style=\"white-space:pre;overflow-x:auto;line-height:normal;font-family:Menlo,'DejaVu Sans Mono',consolas,'Courier New',monospace\"><span style=\"font-weight: bold\"> Total params: </span><span style=\"color: #00af00; text-decoration-color: #00af00\">737</span> (2.88 KB)\n",
       "</pre>\n"
      ],
      "text/plain": [
       "\u001b[1m Total params: \u001b[0m\u001b[38;5;34m737\u001b[0m (2.88 KB)\n"
      ]
     },
     "metadata": {},
     "output_type": "display_data"
    },
    {
     "data": {
      "text/html": [
       "<pre style=\"white-space:pre;overflow-x:auto;line-height:normal;font-family:Menlo,'DejaVu Sans Mono',consolas,'Courier New',monospace\"><span style=\"font-weight: bold\"> Trainable params: </span><span style=\"color: #00af00; text-decoration-color: #00af00\">737</span> (2.88 KB)\n",
       "</pre>\n"
      ],
      "text/plain": [
       "\u001b[1m Trainable params: \u001b[0m\u001b[38;5;34m737\u001b[0m (2.88 KB)\n"
      ]
     },
     "metadata": {},
     "output_type": "display_data"
    },
    {
     "data": {
      "text/html": [
       "<pre style=\"white-space:pre;overflow-x:auto;line-height:normal;font-family:Menlo,'DejaVu Sans Mono',consolas,'Courier New',monospace\"><span style=\"font-weight: bold\"> Non-trainable params: </span><span style=\"color: #00af00; text-decoration-color: #00af00\">0</span> (0.00 B)\n",
       "</pre>\n"
      ],
      "text/plain": [
       "\u001b[1m Non-trainable params: \u001b[0m\u001b[38;5;34m0\u001b[0m (0.00 B)\n"
      ]
     },
     "metadata": {},
     "output_type": "display_data"
    }
   ],
   "source": [
    "import tensorflow as tf\n",
    "from tensorflow import keras\n",
    "from tensorflow.keras import layers\n",
    "\n",
    "model = keras.Sequential([\n",
    "    layers.Input(shape=(X_train.shape[1],)),\n",
    "    layers.Dense(32, activation=\"relu\"),\n",
    "    layers.Dropout(0.3),\n",
    "    layers.Dense(16, activation=\"relu\"),\n",
    "    layers.Dense(1, activation=\"sigmoid\")  # klasifikasi biner\n",
    "])\n",
    "\n",
    "model.compile(optimizer=keras.optimizers.Adam(1e-3),\n",
    "              loss=\"binary_crossentropy\",\n",
    "              metrics=[\"accuracy\",\"AUC\"])\n",
    "model.summary()"
   ]
  },
  {
   "cell_type": "code",
   "execution_count": 5,
   "id": "dcc82d1f",
   "metadata": {},
   "outputs": [
    {
     "name": "stdout",
     "output_type": "stream",
     "text": [
      "Epoch 1/100\n",
      "\u001b[1m1/1\u001b[0m \u001b[32m━━━━━━━━━━━━━━━━━━━━\u001b[0m\u001b[37m\u001b[0m \u001b[1m15s\u001b[0m 15s/step - AUC: 0.2500 - accuracy: 0.2857 - loss: 0.8158 - val_AUC: 0.0000e+00 - val_accuracy: 1.0000 - val_loss: 0.6860\n",
      "Epoch 2/100\n",
      "\u001b[1m1/1\u001b[0m \u001b[32m━━━━━━━━━━━━━━━━━━━━\u001b[0m\u001b[37m\u001b[0m \u001b[1m1s\u001b[0m 682ms/step - AUC: 0.3333 - accuracy: 0.4286 - loss: 0.7963 - val_AUC: 0.0000e+00 - val_accuracy: 1.0000 - val_loss: 0.6768\n",
      "Epoch 3/100\n",
      "\u001b[1m1/1\u001b[0m \u001b[32m━━━━━━━━━━━━━━━━━━━━\u001b[0m\u001b[37m\u001b[0m \u001b[1m1s\u001b[0m 613ms/step - AUC: 0.3333 - accuracy: 0.5714 - loss: 0.8060 - val_AUC: 0.0000e+00 - val_accuracy: 1.0000 - val_loss: 0.6669\n",
      "Epoch 4/100\n",
      "\u001b[1m1/1\u001b[0m \u001b[32m━━━━━━━━━━━━━━━━━━━━\u001b[0m\u001b[37m\u001b[0m \u001b[1m1s\u001b[0m 685ms/step - AUC: 0.6667 - accuracy: 0.8571 - loss: 0.6855 - val_AUC: 0.0000e+00 - val_accuracy: 1.0000 - val_loss: 0.6573\n",
      "Epoch 5/100\n",
      "\u001b[1m1/1\u001b[0m \u001b[32m━━━━━━━━━━━━━━━━━━━━\u001b[0m\u001b[37m\u001b[0m \u001b[1m1s\u001b[0m 606ms/step - AUC: 0.3333 - accuracy: 0.4286 - loss: 0.7653 - val_AUC: 0.0000e+00 - val_accuracy: 1.0000 - val_loss: 0.6481\n",
      "Epoch 6/100\n",
      "\u001b[1m1/1\u001b[0m \u001b[32m━━━━━━━━━━━━━━━━━━━━\u001b[0m\u001b[37m\u001b[0m \u001b[1m1s\u001b[0m 597ms/step - AUC: 0.3333 - accuracy: 0.7143 - loss: 0.7637 - val_AUC: 0.0000e+00 - val_accuracy: 1.0000 - val_loss: 0.6388\n",
      "Epoch 7/100\n",
      "\u001b[1m1/1\u001b[0m \u001b[32m━━━━━━━━━━━━━━━━━━━━\u001b[0m\u001b[37m\u001b[0m \u001b[1m1s\u001b[0m 820ms/step - AUC: 0.6667 - accuracy: 0.7143 - loss: 0.6888 - val_AUC: 0.0000e+00 - val_accuracy: 1.0000 - val_loss: 0.6296\n",
      "Epoch 8/100\n",
      "\u001b[1m1/1\u001b[0m \u001b[32m━━━━━━━━━━━━━━━━━━━━\u001b[0m\u001b[37m\u001b[0m \u001b[1m1s\u001b[0m 1s/step - AUC: 0.7500 - accuracy: 0.8571 - loss: 0.6223 - val_AUC: 0.0000e+00 - val_accuracy: 1.0000 - val_loss: 0.6206\n",
      "Epoch 9/100\n",
      "\u001b[1m1/1\u001b[0m \u001b[32m━━━━━━━━━━━━━━━━━━━━\u001b[0m\u001b[37m\u001b[0m \u001b[1m2s\u001b[0m 2s/step - AUC: 0.7500 - accuracy: 0.8571 - loss: 0.6335 - val_AUC: 0.0000e+00 - val_accuracy: 1.0000 - val_loss: 0.6115\n",
      "Epoch 10/100\n",
      "\u001b[1m1/1\u001b[0m \u001b[32m━━━━━━━━━━━━━━━━━━━━\u001b[0m\u001b[37m\u001b[0m \u001b[1m1s\u001b[0m 627ms/step - AUC: 0.5000 - accuracy: 0.5714 - loss: 0.7150 - val_AUC: 0.0000e+00 - val_accuracy: 1.0000 - val_loss: 0.6027\n",
      "Epoch 11/100\n",
      "\u001b[1m1/1\u001b[0m \u001b[32m━━━━━━━━━━━━━━━━━━━━\u001b[0m\u001b[37m\u001b[0m \u001b[1m1s\u001b[0m 913ms/step - AUC: 0.5000 - accuracy: 0.7143 - loss: 0.6660 - val_AUC: 0.0000e+00 - val_accuracy: 1.0000 - val_loss: 0.5939\n",
      "Epoch 12/100\n",
      "\u001b[1m1/1\u001b[0m \u001b[32m━━━━━━━━━━━━━━━━━━━━\u001b[0m\u001b[37m\u001b[0m \u001b[1m1s\u001b[0m 1s/step - AUC: 1.0000 - accuracy: 1.0000 - loss: 0.5829 - val_AUC: 0.0000e+00 - val_accuracy: 1.0000 - val_loss: 0.5848\n",
      "Epoch 13/100\n",
      "\u001b[1m1/1\u001b[0m \u001b[32m━━━━━━━━━━━━━━━━━━━━\u001b[0m\u001b[37m\u001b[0m \u001b[1m1s\u001b[0m 661ms/step - AUC: 0.8333 - accuracy: 0.8571 - loss: 0.6348 - val_AUC: 0.0000e+00 - val_accuracy: 1.0000 - val_loss: 0.5760\n",
      "Epoch 14/100\n",
      "\u001b[1m1/1\u001b[0m \u001b[32m━━━━━━━━━━━━━━━━━━━━\u001b[0m\u001b[37m\u001b[0m \u001b[1m1s\u001b[0m 1s/step - AUC: 0.6667 - accuracy: 0.7143 - loss: 0.6299 - val_AUC: 0.0000e+00 - val_accuracy: 1.0000 - val_loss: 0.5673\n",
      "Epoch 15/100\n",
      "\u001b[1m1/1\u001b[0m \u001b[32m━━━━━━━━━━━━━━━━━━━━\u001b[0m\u001b[37m\u001b[0m \u001b[1m1s\u001b[0m 632ms/step - AUC: 1.0000 - accuracy: 1.0000 - loss: 0.5791 - val_AUC: 0.0000e+00 - val_accuracy: 1.0000 - val_loss: 0.5586\n",
      "Epoch 16/100\n",
      "\u001b[1m1/1\u001b[0m \u001b[32m━━━━━━━━━━━━━━━━━━━━\u001b[0m\u001b[37m\u001b[0m \u001b[1m1s\u001b[0m 644ms/step - AUC: 0.9167 - accuracy: 0.8571 - loss: 0.5808 - val_AUC: 0.0000e+00 - val_accuracy: 1.0000 - val_loss: 0.5505\n",
      "Epoch 17/100\n",
      "\u001b[1m1/1\u001b[0m \u001b[32m━━━━━━━━━━━━━━━━━━━━\u001b[0m\u001b[37m\u001b[0m \u001b[1m1s\u001b[0m 608ms/step - AUC: 1.0000 - accuracy: 0.8571 - loss: 0.5957 - val_AUC: 0.0000e+00 - val_accuracy: 1.0000 - val_loss: 0.5426\n",
      "Epoch 18/100\n",
      "\u001b[1m1/1\u001b[0m \u001b[32m━━━━━━━━━━━━━━━━━━━━\u001b[0m\u001b[37m\u001b[0m \u001b[1m1s\u001b[0m 623ms/step - AUC: 1.0000 - accuracy: 0.8571 - loss: 0.5318 - val_AUC: 0.0000e+00 - val_accuracy: 1.0000 - val_loss: 0.5347\n",
      "Epoch 19/100\n",
      "\u001b[1m1/1\u001b[0m \u001b[32m━━━━━━━━━━━━━━━━━━━━\u001b[0m\u001b[37m\u001b[0m \u001b[1m1s\u001b[0m 643ms/step - AUC: 0.9583 - accuracy: 0.8571 - loss: 0.5458 - val_AUC: 0.0000e+00 - val_accuracy: 1.0000 - val_loss: 0.5267\n",
      "Epoch 20/100\n",
      "\u001b[1m1/1\u001b[0m \u001b[32m━━━━━━━━━━━━━━━━━━━━\u001b[0m\u001b[37m\u001b[0m \u001b[1m1s\u001b[0m 728ms/step - AUC: 0.9167 - accuracy: 0.8571 - loss: 0.5476 - val_AUC: 0.0000e+00 - val_accuracy: 1.0000 - val_loss: 0.5189\n",
      "Epoch 21/100\n",
      "\u001b[1m1/1\u001b[0m \u001b[32m━━━━━━━━━━━━━━━━━━━━\u001b[0m\u001b[37m\u001b[0m \u001b[1m1s\u001b[0m 626ms/step - AUC: 1.0000 - accuracy: 0.8571 - loss: 0.5371 - val_AUC: 0.0000e+00 - val_accuracy: 1.0000 - val_loss: 0.5112\n",
      "Epoch 22/100\n",
      "\u001b[1m1/1\u001b[0m \u001b[32m━━━━━━━━━━━━━━━━━━━━\u001b[0m\u001b[37m\u001b[0m \u001b[1m1s\u001b[0m 624ms/step - AUC: 1.0000 - accuracy: 0.8571 - loss: 0.5475 - val_AUC: 0.0000e+00 - val_accuracy: 1.0000 - val_loss: 0.5038\n",
      "Epoch 23/100\n",
      "\u001b[1m1/1\u001b[0m \u001b[32m━━━━━━━━━━━━━━━━━━━━\u001b[0m\u001b[37m\u001b[0m \u001b[1m1s\u001b[0m 709ms/step - AUC: 1.0000 - accuracy: 0.8571 - loss: 0.5495 - val_AUC: 0.0000e+00 - val_accuracy: 1.0000 - val_loss: 0.4965\n",
      "Epoch 24/100\n",
      "\u001b[1m1/1\u001b[0m \u001b[32m━━━━━━━━━━━━━━━━━━━━\u001b[0m\u001b[37m\u001b[0m \u001b[1m1s\u001b[0m 658ms/step - AUC: 1.0000 - accuracy: 1.0000 - loss: 0.5237 - val_AUC: 0.0000e+00 - val_accuracy: 1.0000 - val_loss: 0.4891\n",
      "Epoch 25/100\n",
      "\u001b[1m1/1\u001b[0m \u001b[32m━━━━━━━━━━━━━━━━━━━━\u001b[0m\u001b[37m\u001b[0m \u001b[1m1s\u001b[0m 614ms/step - AUC: 1.0000 - accuracy: 1.0000 - loss: 0.4899 - val_AUC: 0.0000e+00 - val_accuracy: 1.0000 - val_loss: 0.4817\n",
      "Epoch 26/100\n",
      "\u001b[1m1/1\u001b[0m \u001b[32m━━━━━━━━━━━━━━━━━━━━\u001b[0m\u001b[37m\u001b[0m \u001b[1m1s\u001b[0m 639ms/step - AUC: 1.0000 - accuracy: 1.0000 - loss: 0.4467 - val_AUC: 0.0000e+00 - val_accuracy: 1.0000 - val_loss: 0.4744\n",
      "Epoch 27/100\n",
      "\u001b[1m1/1\u001b[0m \u001b[32m━━━━━━━━━━━━━━━━━━━━\u001b[0m\u001b[37m\u001b[0m \u001b[1m1s\u001b[0m 657ms/step - AUC: 1.0000 - accuracy: 1.0000 - loss: 0.4605 - val_AUC: 0.0000e+00 - val_accuracy: 1.0000 - val_loss: 0.4672\n",
      "Epoch 28/100\n",
      "\u001b[1m1/1\u001b[0m \u001b[32m━━━━━━━━━━━━━━━━━━━━\u001b[0m\u001b[37m\u001b[0m \u001b[1m1s\u001b[0m 692ms/step - AUC: 1.0000 - accuracy: 1.0000 - loss: 0.4136 - val_AUC: 0.0000e+00 - val_accuracy: 1.0000 - val_loss: 0.4600\n",
      "Epoch 29/100\n",
      "\u001b[1m1/1\u001b[0m \u001b[32m━━━━━━━━━━━━━━━━━━━━\u001b[0m\u001b[37m\u001b[0m \u001b[1m1s\u001b[0m 627ms/step - AUC: 1.0000 - accuracy: 1.0000 - loss: 0.3813 - val_AUC: 0.0000e+00 - val_accuracy: 1.0000 - val_loss: 0.4527\n",
      "Epoch 30/100\n",
      "\u001b[1m1/1\u001b[0m \u001b[32m━━━━━━━━━━━━━━━━━━━━\u001b[0m\u001b[37m\u001b[0m \u001b[1m1s\u001b[0m 739ms/step - AUC: 1.0000 - accuracy: 1.0000 - loss: 0.3808 - val_AUC: 0.0000e+00 - val_accuracy: 1.0000 - val_loss: 0.4455\n",
      "Epoch 31/100\n",
      "\u001b[1m1/1\u001b[0m \u001b[32m━━━━━━━━━━━━━━━━━━━━\u001b[0m\u001b[37m\u001b[0m \u001b[1m2s\u001b[0m 2s/step - AUC: 1.0000 - accuracy: 1.0000 - loss: 0.4049 - val_AUC: 0.0000e+00 - val_accuracy: 1.0000 - val_loss: 0.4389\n",
      "Epoch 32/100\n",
      "\u001b[1m1/1\u001b[0m \u001b[32m━━━━━━━━━━━━━━━━━━━━\u001b[0m\u001b[37m\u001b[0m \u001b[1m1s\u001b[0m 939ms/step - AUC: 1.0000 - accuracy: 1.0000 - loss: 0.4172 - val_AUC: 0.0000e+00 - val_accuracy: 1.0000 - val_loss: 0.4324\n",
      "Epoch 33/100\n",
      "\u001b[1m1/1\u001b[0m \u001b[32m━━━━━━━━━━━━━━━━━━━━\u001b[0m\u001b[37m\u001b[0m \u001b[1m1s\u001b[0m 649ms/step - AUC: 1.0000 - accuracy: 1.0000 - loss: 0.3905 - val_AUC: 0.0000e+00 - val_accuracy: 1.0000 - val_loss: 0.4259\n",
      "Epoch 34/100\n",
      "\u001b[1m1/1\u001b[0m \u001b[32m━━━━━━━━━━━━━━━━━━━━\u001b[0m\u001b[37m\u001b[0m \u001b[1m1s\u001b[0m 765ms/step - AUC: 1.0000 - accuracy: 1.0000 - loss: 0.3495 - val_AUC: 0.0000e+00 - val_accuracy: 1.0000 - val_loss: 0.4195\n",
      "Epoch 35/100\n",
      "\u001b[1m1/1\u001b[0m \u001b[32m━━━━━━━━━━━━━━━━━━━━\u001b[0m\u001b[37m\u001b[0m \u001b[1m1s\u001b[0m 680ms/step - AUC: 1.0000 - accuracy: 1.0000 - loss: 0.3751 - val_AUC: 0.0000e+00 - val_accuracy: 1.0000 - val_loss: 0.4130\n",
      "Epoch 36/100\n",
      "\u001b[1m1/1\u001b[0m \u001b[32m━━━━━━━━━━━━━━━━━━━━\u001b[0m\u001b[37m\u001b[0m \u001b[1m1s\u001b[0m 679ms/step - AUC: 1.0000 - accuracy: 1.0000 - loss: 0.4110 - val_AUC: 0.0000e+00 - val_accuracy: 1.0000 - val_loss: 0.4067\n",
      "Epoch 37/100\n",
      "\u001b[1m1/1\u001b[0m \u001b[32m━━━━━━━━━━━━━━━━━━━━\u001b[0m\u001b[37m\u001b[0m \u001b[1m1s\u001b[0m 686ms/step - AUC: 1.0000 - accuracy: 1.0000 - loss: 0.3873 - val_AUC: 0.0000e+00 - val_accuracy: 1.0000 - val_loss: 0.4003\n",
      "Epoch 38/100\n",
      "\u001b[1m1/1\u001b[0m \u001b[32m━━━━━━━━━━━━━━━━━━━━\u001b[0m\u001b[37m\u001b[0m \u001b[1m1s\u001b[0m 763ms/step - AUC: 1.0000 - accuracy: 1.0000 - loss: 0.4132 - val_AUC: 0.0000e+00 - val_accuracy: 1.0000 - val_loss: 0.3941\n",
      "Epoch 39/100\n",
      "\u001b[1m1/1\u001b[0m \u001b[32m━━━━━━━━━━━━━━━━━━━━\u001b[0m\u001b[37m\u001b[0m \u001b[1m1s\u001b[0m 1s/step - AUC: 1.0000 - accuracy: 1.0000 - loss: 0.3513 - val_AUC: 0.0000e+00 - val_accuracy: 1.0000 - val_loss: 0.3880\n",
      "Epoch 40/100\n",
      "\u001b[1m1/1\u001b[0m \u001b[32m━━━━━━━━━━━━━━━━━━━━\u001b[0m\u001b[37m\u001b[0m \u001b[1m1s\u001b[0m 690ms/step - AUC: 1.0000 - accuracy: 1.0000 - loss: 0.4259 - val_AUC: 0.0000e+00 - val_accuracy: 1.0000 - val_loss: 0.3819\n",
      "Epoch 41/100\n",
      "\u001b[1m1/1\u001b[0m \u001b[32m━━━━━━━━━━━━━━━━━━━━\u001b[0m\u001b[37m\u001b[0m \u001b[1m2s\u001b[0m 2s/step - AUC: 1.0000 - accuracy: 1.0000 - loss: 0.3719 - val_AUC: 0.0000e+00 - val_accuracy: 1.0000 - val_loss: 0.3759\n",
      "Epoch 42/100\n",
      "\u001b[1m1/1\u001b[0m \u001b[32m━━━━━━━━━━━━━━━━━━━━\u001b[0m\u001b[37m\u001b[0m \u001b[1m2s\u001b[0m 2s/step - AUC: 1.0000 - accuracy: 1.0000 - loss: 0.3115 - val_AUC: 0.0000e+00 - val_accuracy: 1.0000 - val_loss: 0.3699\n",
      "Epoch 43/100\n",
      "\u001b[1m1/1\u001b[0m \u001b[32m━━━━━━━━━━━━━━━━━━━━\u001b[0m\u001b[37m\u001b[0m \u001b[1m1s\u001b[0m 991ms/step - AUC: 1.0000 - accuracy: 1.0000 - loss: 0.3088 - val_AUC: 0.0000e+00 - val_accuracy: 1.0000 - val_loss: 0.3639\n",
      "Epoch 44/100\n",
      "\u001b[1m1/1\u001b[0m \u001b[32m━━━━━━━━━━━━━━━━━━━━\u001b[0m\u001b[37m\u001b[0m \u001b[1m1s\u001b[0m 1s/step - AUC: 1.0000 - accuracy: 1.0000 - loss: 0.3534 - val_AUC: 0.0000e+00 - val_accuracy: 1.0000 - val_loss: 0.3581\n",
      "Epoch 45/100\n",
      "\u001b[1m1/1\u001b[0m \u001b[32m━━━━━━━━━━━━━━━━━━━━\u001b[0m\u001b[37m\u001b[0m \u001b[1m1s\u001b[0m 1s/step - AUC: 1.0000 - accuracy: 1.0000 - loss: 0.3083 - val_AUC: 0.0000e+00 - val_accuracy: 1.0000 - val_loss: 0.3522\n",
      "Epoch 46/100\n",
      "\u001b[1m1/1\u001b[0m \u001b[32m━━━━━━━━━━━━━━━━━━━━\u001b[0m\u001b[37m\u001b[0m \u001b[1m2s\u001b[0m 2s/step - AUC: 1.0000 - accuracy: 1.0000 - loss: 0.3642 - val_AUC: 0.0000e+00 - val_accuracy: 1.0000 - val_loss: 0.3464\n",
      "Epoch 47/100\n",
      "\u001b[1m1/1\u001b[0m \u001b[32m━━━━━━━━━━━━━━━━━━━━\u001b[0m\u001b[37m\u001b[0m \u001b[1m1s\u001b[0m 712ms/step - AUC: 1.0000 - accuracy: 1.0000 - loss: 0.3936 - val_AUC: 0.0000e+00 - val_accuracy: 1.0000 - val_loss: 0.3407\n",
      "Epoch 48/100\n",
      "\u001b[1m1/1\u001b[0m \u001b[32m━━━━━━━━━━━━━━━━━━━━\u001b[0m\u001b[37m\u001b[0m \u001b[1m0s\u001b[0m 461ms/step - AUC: 1.0000 - accuracy: 1.0000 - loss: 0.3410 - val_AUC: 0.0000e+00 - val_accuracy: 1.0000 - val_loss: 0.3349\n",
      "Epoch 49/100\n",
      "\u001b[1m1/1\u001b[0m \u001b[32m━━━━━━━━━━━━━━━━━━━━\u001b[0m\u001b[37m\u001b[0m \u001b[1m0s\u001b[0m 445ms/step - AUC: 1.0000 - accuracy: 1.0000 - loss: 0.2705 - val_AUC: 0.0000e+00 - val_accuracy: 1.0000 - val_loss: 0.3292\n",
      "Epoch 50/100\n",
      "\u001b[1m1/1\u001b[0m \u001b[32m━━━━━━━━━━━━━━━━━━━━\u001b[0m\u001b[37m\u001b[0m \u001b[1m1s\u001b[0m 556ms/step - AUC: 1.0000 - accuracy: 1.0000 - loss: 0.3208 - val_AUC: 0.0000e+00 - val_accuracy: 1.0000 - val_loss: 0.3235\n",
      "Epoch 51/100\n",
      "\u001b[1m1/1\u001b[0m \u001b[32m━━━━━━━━━━━━━━━━━━━━\u001b[0m\u001b[37m\u001b[0m \u001b[1m1s\u001b[0m 726ms/step - AUC: 1.0000 - accuracy: 1.0000 - loss: 0.3061 - val_AUC: 0.0000e+00 - val_accuracy: 1.0000 - val_loss: 0.3180\n",
      "Epoch 52/100\n",
      "\u001b[1m1/1\u001b[0m \u001b[32m━━━━━━━━━━━━━━━━━━━━\u001b[0m\u001b[37m\u001b[0m \u001b[1m1s\u001b[0m 666ms/step - AUC: 1.0000 - accuracy: 1.0000 - loss: 0.2546 - val_AUC: 0.0000e+00 - val_accuracy: 1.0000 - val_loss: 0.3124\n",
      "Epoch 53/100\n",
      "\u001b[1m1/1\u001b[0m \u001b[32m━━━━━━━━━━━━━━━━━━━━\u001b[0m\u001b[37m\u001b[0m \u001b[1m1s\u001b[0m 799ms/step - AUC: 1.0000 - accuracy: 1.0000 - loss: 0.3128 - val_AUC: 0.0000e+00 - val_accuracy: 1.0000 - val_loss: 0.3068\n",
      "Epoch 54/100\n",
      "\u001b[1m1/1\u001b[0m \u001b[32m━━━━━━━━━━━━━━━━━━━━\u001b[0m\u001b[37m\u001b[0m \u001b[1m1s\u001b[0m 697ms/step - AUC: 1.0000 - accuracy: 1.0000 - loss: 0.2555 - val_AUC: 0.0000e+00 - val_accuracy: 1.0000 - val_loss: 0.3012\n",
      "Epoch 55/100\n",
      "\u001b[1m1/1\u001b[0m \u001b[32m━━━━━━━━━━━━━━━━━━━━\u001b[0m\u001b[37m\u001b[0m \u001b[1m1s\u001b[0m 1s/step - AUC: 1.0000 - accuracy: 1.0000 - loss: 0.2779 - val_AUC: 0.0000e+00 - val_accuracy: 1.0000 - val_loss: 0.2957\n",
      "Epoch 56/100\n",
      "\u001b[1m1/1\u001b[0m \u001b[32m━━━━━━━━━━━━━━━━━━━━\u001b[0m\u001b[37m\u001b[0m \u001b[1m1s\u001b[0m 1s/step - AUC: 1.0000 - accuracy: 1.0000 - loss: 0.3221 - val_AUC: 0.0000e+00 - val_accuracy: 1.0000 - val_loss: 0.2901\n",
      "Epoch 57/100\n",
      "\u001b[1m1/1\u001b[0m \u001b[32m━━━━━━━━━━━━━━━━━━━━\u001b[0m\u001b[37m\u001b[0m \u001b[1m1s\u001b[0m 1s/step - AUC: 1.0000 - accuracy: 1.0000 - loss: 0.2825 - val_AUC: 0.0000e+00 - val_accuracy: 1.0000 - val_loss: 0.2845\n",
      "Epoch 58/100\n",
      "\u001b[1m1/1\u001b[0m \u001b[32m━━━━━━━━━━━━━━━━━━━━\u001b[0m\u001b[37m\u001b[0m \u001b[1m1s\u001b[0m 907ms/step - AUC: 1.0000 - accuracy: 1.0000 - loss: 0.2631 - val_AUC: 0.0000e+00 - val_accuracy: 1.0000 - val_loss: 0.2792\n",
      "Epoch 59/100\n",
      "\u001b[1m1/1\u001b[0m \u001b[32m━━━━━━━━━━━━━━━━━━━━\u001b[0m\u001b[37m\u001b[0m \u001b[1m1s\u001b[0m 587ms/step - AUC: 1.0000 - accuracy: 1.0000 - loss: 0.2815 - val_AUC: 0.0000e+00 - val_accuracy: 1.0000 - val_loss: 0.2740\n",
      "Epoch 60/100\n",
      "\u001b[1m1/1\u001b[0m \u001b[32m━━━━━━━━━━━━━━━━━━━━\u001b[0m\u001b[37m\u001b[0m \u001b[1m1s\u001b[0m 1s/step - AUC: 1.0000 - accuracy: 1.0000 - loss: 0.2222 - val_AUC: 0.0000e+00 - val_accuracy: 1.0000 - val_loss: 0.2689\n",
      "Epoch 61/100\n",
      "\u001b[1m1/1\u001b[0m \u001b[32m━━━━━━━━━━━━━━━━━━━━\u001b[0m\u001b[37m\u001b[0m \u001b[1m1s\u001b[0m 1s/step - AUC: 1.0000 - accuracy: 1.0000 - loss: 0.2532 - val_AUC: 0.0000e+00 - val_accuracy: 1.0000 - val_loss: 0.2639\n",
      "Epoch 62/100\n",
      "\u001b[1m1/1\u001b[0m \u001b[32m━━━━━━━━━━━━━━━━━━━━\u001b[0m\u001b[37m\u001b[0m \u001b[1m2s\u001b[0m 2s/step - AUC: 1.0000 - accuracy: 1.0000 - loss: 0.2216 - val_AUC: 0.0000e+00 - val_accuracy: 1.0000 - val_loss: 0.2589\n",
      "Epoch 63/100\n",
      "\u001b[1m1/1\u001b[0m \u001b[32m━━━━━━━━━━━━━━━━━━━━\u001b[0m\u001b[37m\u001b[0m \u001b[1m2s\u001b[0m 2s/step - AUC: 1.0000 - accuracy: 1.0000 - loss: 0.2408 - val_AUC: 0.0000e+00 - val_accuracy: 1.0000 - val_loss: 0.2540\n",
      "Epoch 64/100\n",
      "\u001b[1m1/1\u001b[0m \u001b[32m━━━━━━━━━━━━━━━━━━━━\u001b[0m\u001b[37m\u001b[0m \u001b[1m1s\u001b[0m 1s/step - AUC: 1.0000 - accuracy: 1.0000 - loss: 0.2323 - val_AUC: 0.0000e+00 - val_accuracy: 1.0000 - val_loss: 0.2492\n",
      "Epoch 65/100\n",
      "\u001b[1m1/1\u001b[0m \u001b[32m━━━━━━━━━━━━━━━━━━━━\u001b[0m\u001b[37m\u001b[0m \u001b[1m1s\u001b[0m 672ms/step - AUC: 1.0000 - accuracy: 1.0000 - loss: 0.2179 - val_AUC: 0.0000e+00 - val_accuracy: 1.0000 - val_loss: 0.2444\n",
      "Epoch 66/100\n",
      "\u001b[1m1/1\u001b[0m \u001b[32m━━━━━━━━━━━━━━━━━━━━\u001b[0m\u001b[37m\u001b[0m \u001b[1m1s\u001b[0m 672ms/step - AUC: 1.0000 - accuracy: 1.0000 - loss: 0.2497 - val_AUC: 0.0000e+00 - val_accuracy: 1.0000 - val_loss: 0.2396\n",
      "Epoch 67/100\n",
      "\u001b[1m1/1\u001b[0m \u001b[32m━━━━━━━━━━━━━━━━━━━━\u001b[0m\u001b[37m\u001b[0m \u001b[1m1s\u001b[0m 573ms/step - AUC: 1.0000 - accuracy: 1.0000 - loss: 0.2561 - val_AUC: 0.0000e+00 - val_accuracy: 1.0000 - val_loss: 0.2350\n",
      "Epoch 68/100\n",
      "\u001b[1m1/1\u001b[0m \u001b[32m━━━━━━━━━━━━━━━━━━━━\u001b[0m\u001b[37m\u001b[0m \u001b[1m1s\u001b[0m 667ms/step - AUC: 1.0000 - accuracy: 1.0000 - loss: 0.1948 - val_AUC: 0.0000e+00 - val_accuracy: 1.0000 - val_loss: 0.2305\n",
      "Epoch 69/100\n",
      "\u001b[1m1/1\u001b[0m \u001b[32m━━━━━━━━━━━━━━━━━━━━\u001b[0m\u001b[37m\u001b[0m \u001b[1m2s\u001b[0m 2s/step - AUC: 1.0000 - accuracy: 1.0000 - loss: 0.2018 - val_AUC: 0.0000e+00 - val_accuracy: 1.0000 - val_loss: 0.2260\n",
      "Epoch 70/100\n",
      "\u001b[1m1/1\u001b[0m \u001b[32m━━━━━━━━━━━━━━━━━━━━\u001b[0m\u001b[37m\u001b[0m \u001b[1m1s\u001b[0m 885ms/step - AUC: 1.0000 - accuracy: 1.0000 - loss: 0.2359 - val_AUC: 0.0000e+00 - val_accuracy: 1.0000 - val_loss: 0.2216\n",
      "Epoch 71/100\n",
      "\u001b[1m1/1\u001b[0m \u001b[32m━━━━━━━━━━━━━━━━━━━━\u001b[0m\u001b[37m\u001b[0m \u001b[1m2s\u001b[0m 2s/step - AUC: 1.0000 - accuracy: 1.0000 - loss: 0.2097 - val_AUC: 0.0000e+00 - val_accuracy: 1.0000 - val_loss: 0.2174\n",
      "Epoch 72/100\n",
      "\u001b[1m1/1\u001b[0m \u001b[32m━━━━━━━━━━━━━━━━━━━━\u001b[0m\u001b[37m\u001b[0m \u001b[1m1s\u001b[0m 1s/step - AUC: 1.0000 - accuracy: 1.0000 - loss: 0.1721 - val_AUC: 0.0000e+00 - val_accuracy: 1.0000 - val_loss: 0.2132\n",
      "Epoch 73/100\n",
      "\u001b[1m1/1\u001b[0m \u001b[32m━━━━━━━━━━━━━━━━━━━━\u001b[0m\u001b[37m\u001b[0m \u001b[1m1s\u001b[0m 1s/step - AUC: 1.0000 - accuracy: 1.0000 - loss: 0.1744 - val_AUC: 0.0000e+00 - val_accuracy: 1.0000 - val_loss: 0.2091\n",
      "Epoch 74/100\n",
      "\u001b[1m1/1\u001b[0m \u001b[32m━━━━━━━━━━━━━━━━━━━━\u001b[0m\u001b[37m\u001b[0m \u001b[1m1s\u001b[0m 950ms/step - AUC: 1.0000 - accuracy: 1.0000 - loss: 0.2357 - val_AUC: 0.0000e+00 - val_accuracy: 1.0000 - val_loss: 0.2050\n",
      "Epoch 75/100\n",
      "\u001b[1m1/1\u001b[0m \u001b[32m━━━━━━━━━━━━━━━━━━━━\u001b[0m\u001b[37m\u001b[0m \u001b[1m1s\u001b[0m 545ms/step - AUC: 1.0000 - accuracy: 1.0000 - loss: 0.2006 - val_AUC: 0.0000e+00 - val_accuracy: 1.0000 - val_loss: 0.2009\n",
      "Epoch 76/100\n",
      "\u001b[1m1/1\u001b[0m \u001b[32m━━━━━━━━━━━━━━━━━━━━\u001b[0m\u001b[37m\u001b[0m \u001b[1m1s\u001b[0m 551ms/step - AUC: 1.0000 - accuracy: 1.0000 - loss: 0.1807 - val_AUC: 0.0000e+00 - val_accuracy: 1.0000 - val_loss: 0.1969\n",
      "Epoch 77/100\n",
      "\u001b[1m1/1\u001b[0m \u001b[32m━━━━━━━━━━━━━━━━━━━━\u001b[0m\u001b[37m\u001b[0m \u001b[1m1s\u001b[0m 565ms/step - AUC: 1.0000 - accuracy: 1.0000 - loss: 0.2248 - val_AUC: 0.0000e+00 - val_accuracy: 1.0000 - val_loss: 0.1928\n",
      "Epoch 78/100\n",
      "\u001b[1m1/1\u001b[0m \u001b[32m━━━━━━━━━━━━━━━━━━━━\u001b[0m\u001b[37m\u001b[0m \u001b[1m2s\u001b[0m 2s/step - AUC: 1.0000 - accuracy: 1.0000 - loss: 0.1974 - val_AUC: 0.0000e+00 - val_accuracy: 1.0000 - val_loss: 0.1888\n",
      "Epoch 79/100\n",
      "\u001b[1m1/1\u001b[0m \u001b[32m━━━━━━━━━━━━━━━━━━━━\u001b[0m\u001b[37m\u001b[0m \u001b[1m2s\u001b[0m 2s/step - AUC: 1.0000 - accuracy: 1.0000 - loss: 0.1268 - val_AUC: 0.0000e+00 - val_accuracy: 1.0000 - val_loss: 0.1849\n",
      "Epoch 80/100\n",
      "\u001b[1m1/1\u001b[0m \u001b[32m━━━━━━━━━━━━━━━━━━━━\u001b[0m\u001b[37m\u001b[0m \u001b[1m1s\u001b[0m 1s/step - AUC: 1.0000 - accuracy: 1.0000 - loss: 0.1848 - val_AUC: 0.0000e+00 - val_accuracy: 1.0000 - val_loss: 0.1810\n",
      "Epoch 81/100\n",
      "\u001b[1m1/1\u001b[0m \u001b[32m━━━━━━━━━━━━━━━━━━━━\u001b[0m\u001b[37m\u001b[0m \u001b[1m1s\u001b[0m 828ms/step - AUC: 1.0000 - accuracy: 1.0000 - loss: 0.2066 - val_AUC: 0.0000e+00 - val_accuracy: 1.0000 - val_loss: 0.1772\n",
      "Epoch 82/100\n",
      "\u001b[1m1/1\u001b[0m \u001b[32m━━━━━━━━━━━━━━━━━━━━\u001b[0m\u001b[37m\u001b[0m \u001b[1m1s\u001b[0m 658ms/step - AUC: 1.0000 - accuracy: 1.0000 - loss: 0.1802 - val_AUC: 0.0000e+00 - val_accuracy: 1.0000 - val_loss: 0.1736\n",
      "Epoch 83/100\n",
      "\u001b[1m1/1\u001b[0m \u001b[32m━━━━━━━━━━━━━━━━━━━━\u001b[0m\u001b[37m\u001b[0m \u001b[1m2s\u001b[0m 2s/step - AUC: 1.0000 - accuracy: 1.0000 - loss: 0.1875 - val_AUC: 0.0000e+00 - val_accuracy: 1.0000 - val_loss: 0.1701\n",
      "Epoch 84/100\n",
      "\u001b[1m1/1\u001b[0m \u001b[32m━━━━━━━━━━━━━━━━━━━━\u001b[0m\u001b[37m\u001b[0m \u001b[1m1s\u001b[0m 1s/step - AUC: 1.0000 - accuracy: 1.0000 - loss: 0.1992 - val_AUC: 0.0000e+00 - val_accuracy: 1.0000 - val_loss: 0.1666\n",
      "Epoch 85/100\n",
      "\u001b[1m1/1\u001b[0m \u001b[32m━━━━━━━━━━━━━━━━━━━━\u001b[0m\u001b[37m\u001b[0m \u001b[1m1s\u001b[0m 720ms/step - AUC: 1.0000 - accuracy: 1.0000 - loss: 0.2072 - val_AUC: 0.0000e+00 - val_accuracy: 1.0000 - val_loss: 0.1632\n",
      "Epoch 86/100\n",
      "\u001b[1m1/1\u001b[0m \u001b[32m━━━━━━━━━━━━━━━━━━━━\u001b[0m\u001b[37m\u001b[0m \u001b[1m1s\u001b[0m 518ms/step - AUC: 1.0000 - accuracy: 1.0000 - loss: 0.1536 - val_AUC: 0.0000e+00 - val_accuracy: 1.0000 - val_loss: 0.1599\n",
      "Epoch 87/100\n",
      "\u001b[1m1/1\u001b[0m \u001b[32m━━━━━━━━━━━━━━━━━━━━\u001b[0m\u001b[37m\u001b[0m \u001b[1m1s\u001b[0m 752ms/step - AUC: 1.0000 - accuracy: 1.0000 - loss: 0.1462 - val_AUC: 0.0000e+00 - val_accuracy: 1.0000 - val_loss: 0.1566\n",
      "Epoch 88/100\n",
      "\u001b[1m1/1\u001b[0m \u001b[32m━━━━━━━━━━━━━━━━━━━━\u001b[0m\u001b[37m\u001b[0m \u001b[1m1s\u001b[0m 698ms/step - AUC: 1.0000 - accuracy: 1.0000 - loss: 0.1338 - val_AUC: 0.0000e+00 - val_accuracy: 1.0000 - val_loss: 0.1534\n",
      "Epoch 89/100\n",
      "\u001b[1m1/1\u001b[0m \u001b[32m━━━━━━━━━━━━━━━━━━━━\u001b[0m\u001b[37m\u001b[0m \u001b[1m0s\u001b[0m 467ms/step - AUC: 1.0000 - accuracy: 1.0000 - loss: 0.1139 - val_AUC: 0.0000e+00 - val_accuracy: 1.0000 - val_loss: 0.1502\n",
      "Epoch 90/100\n",
      "\u001b[1m1/1\u001b[0m \u001b[32m━━━━━━━━━━━━━━━━━━━━\u001b[0m\u001b[37m\u001b[0m \u001b[1m1s\u001b[0m 711ms/step - AUC: 1.0000 - accuracy: 1.0000 - loss: 0.1399 - val_AUC: 0.0000e+00 - val_accuracy: 1.0000 - val_loss: 0.1472\n",
      "Epoch 91/100\n",
      "\u001b[1m1/1\u001b[0m \u001b[32m━━━━━━━━━━━━━━━━━━━━\u001b[0m\u001b[37m\u001b[0m \u001b[1m1s\u001b[0m 519ms/step - AUC: 1.0000 - accuracy: 1.0000 - loss: 0.1188 - val_AUC: 0.0000e+00 - val_accuracy: 1.0000 - val_loss: 0.1442\n",
      "Epoch 92/100\n",
      "\u001b[1m1/1\u001b[0m \u001b[32m━━━━━━━━━━━━━━━━━━━━\u001b[0m\u001b[37m\u001b[0m \u001b[1m0s\u001b[0m 474ms/step - AUC: 1.0000 - accuracy: 1.0000 - loss: 0.1324 - val_AUC: 0.0000e+00 - val_accuracy: 1.0000 - val_loss: 0.1412\n",
      "Epoch 93/100\n",
      "\u001b[1m1/1\u001b[0m \u001b[32m━━━━━━━━━━━━━━━━━━━━\u001b[0m\u001b[37m\u001b[0m \u001b[1m0s\u001b[0m 429ms/step - AUC: 1.0000 - accuracy: 1.0000 - loss: 0.1995 - val_AUC: 0.0000e+00 - val_accuracy: 1.0000 - val_loss: 0.1383\n",
      "Epoch 94/100\n",
      "\u001b[1m1/1\u001b[0m \u001b[32m━━━━━━━━━━━━━━━━━━━━\u001b[0m\u001b[37m\u001b[0m \u001b[1m0s\u001b[0m 419ms/step - AUC: 1.0000 - accuracy: 1.0000 - loss: 0.1375 - val_AUC: 0.0000e+00 - val_accuracy: 1.0000 - val_loss: 0.1354\n",
      "Epoch 95/100\n",
      "\u001b[1m1/1\u001b[0m \u001b[32m━━━━━━━━━━━━━━━━━━━━\u001b[0m\u001b[37m\u001b[0m \u001b[1m1s\u001b[0m 841ms/step - AUC: 1.0000 - accuracy: 1.0000 - loss: 0.2012 - val_AUC: 0.0000e+00 - val_accuracy: 1.0000 - val_loss: 0.1325\n",
      "Epoch 96/100\n",
      "\u001b[1m1/1\u001b[0m \u001b[32m━━━━━━━━━━━━━━━━━━━━\u001b[0m\u001b[37m\u001b[0m \u001b[1m1s\u001b[0m 1s/step - AUC: 1.0000 - accuracy: 1.0000 - loss: 0.1486 - val_AUC: 0.0000e+00 - val_accuracy: 1.0000 - val_loss: 0.1296\n",
      "Epoch 97/100\n",
      "\u001b[1m1/1\u001b[0m \u001b[32m━━━━━━━━━━━━━━━━━━━━\u001b[0m\u001b[37m\u001b[0m \u001b[1m2s\u001b[0m 2s/step - AUC: 1.0000 - accuracy: 1.0000 - loss: 0.1118 - val_AUC: 0.0000e+00 - val_accuracy: 1.0000 - val_loss: 0.1268\n",
      "Epoch 98/100\n",
      "\u001b[1m1/1\u001b[0m \u001b[32m━━━━━━━━━━━━━━━━━━━━\u001b[0m\u001b[37m\u001b[0m \u001b[1m2s\u001b[0m 2s/step - AUC: 1.0000 - accuracy: 1.0000 - loss: 0.1242 - val_AUC: 0.0000e+00 - val_accuracy: 1.0000 - val_loss: 0.1241\n",
      "Epoch 99/100\n",
      "\u001b[1m1/1\u001b[0m \u001b[32m━━━━━━━━━━━━━━━━━━━━\u001b[0m\u001b[37m\u001b[0m \u001b[1m1s\u001b[0m 1s/step - AUC: 1.0000 - accuracy: 1.0000 - loss: 0.1225 - val_AUC: 0.0000e+00 - val_accuracy: 1.0000 - val_loss: 0.1214\n",
      "Epoch 100/100\n",
      "\u001b[1m1/1\u001b[0m \u001b[32m━━━━━━━━━━━━━━━━━━━━\u001b[0m\u001b[37m\u001b[0m \u001b[1m1s\u001b[0m 894ms/step - AUC: 1.0000 - accuracy: 1.0000 - loss: 0.1345 - val_AUC: 0.0000e+00 - val_accuracy: 1.0000 - val_loss: 0.1188\n"
     ]
    }
   ],
   "source": [
    "es = keras.callbacks.EarlyStopping(\n",
    "    monitor=\"val_loss\", patience=10, restore_best_weights=True\n",
    ")\n",
    "\n",
    "history = model.fit(\n",
    "    X_train, y_train,\n",
    "    validation_data=(X_val, y_val),\n",
    "    epochs=100, batch_size=32,\n",
    "    callbacks=[es], verbose=1\n",
    ")"
   ]
  },
  {
   "cell_type": "code",
   "execution_count": 6,
   "id": "6faebab7",
   "metadata": {},
   "outputs": [
    {
     "name": "stdout",
     "output_type": "stream",
     "text": [
      "Test Acc: 1.0 AUC: 0.0\n",
      "\u001b[1m1/1\u001b[0m \u001b[32m━━━━━━━━━━━━━━━━━━━━\u001b[0m\u001b[37m\u001b[0m \u001b[1m1s\u001b[0m 628ms/step\n",
      "[[2]]\n"
     ]
    },
    {
     "name": "stderr",
     "output_type": "stream",
     "text": [
      "d:\\machine_learning\\.venv\\lib\\site-packages\\sklearn\\metrics\\_classification.py:534: UserWarning: A single label was found in 'y_true' and 'y_pred'. For the confusion matrix to have the correct shape, use the 'labels' parameter to pass all known labels.\n",
      "  warnings.warn(\n"
     ]
    },
    {
     "name": "stdout",
     "output_type": "stream",
     "text": [
      "              precision    recall  f1-score   support\n",
      "\n",
      "           0      1.000     1.000     1.000         2\n",
      "\n",
      "    accuracy                          1.000         2\n",
      "   macro avg      1.000     1.000     1.000         2\n",
      "weighted avg      1.000     1.000     1.000         2\n",
      "\n"
     ]
    }
   ],
   "source": [
    "from sklearn.metrics import classification_report, confusion_matrix\n",
    "\n",
    "loss, acc, auc = model.evaluate(X_test, y_test, verbose=0)\n",
    "print(\"Test Acc:\", acc, \"AUC:\", auc)\n",
    "\n",
    "y_proba = model.predict(X_test).ravel()\n",
    "y_pred = (y_proba >= 0.5).astype(int)\n",
    "\n",
    "print(confusion_matrix(y_test, y_pred))\n",
    "print(classification_report(y_test, y_pred, digits=3))"
   ]
  },
  {
   "cell_type": "code",
   "execution_count": 7,
   "id": "606cde71",
   "metadata": {},
   "outputs": [
    {
     "data": {
      "image/png": "[encoded data removed]",
      "text/plain": [
       "<Figure size 640x480 with 1 Axes>"
      ]
     },
     "metadata": {},
     "output_type": "display_data"
    }
   ],
   "source": [
    "import matplotlib.pyplot as plt\n",
    "\n",
    "plt.plot(history.history[\"loss\"], label=\"Train Loss\")\n",
    "plt.plot(history.history[\"val_loss\"], label=\"Val Loss\")\n",
    "plt.xlabel(\"Epoch\"); plt.ylabel(\"Loss\"); plt.legend()\n",
    "plt.title(\"Learning Curve\")\n",
    "plt.tight_layout(); plt.savefig(\"learning_curve.png\", dpi=120)"
   ]
  }
 ],
 "metadata": {
  "kernelspec": {
   "display_name": ".venv",
   "language": "python",
   "name": "python3"
  },
  "language_info": {
   "codemirror_mode": {
    "name": "ipython",
    "version": 3
   },
   "file_extension": ".py",
   "mimetype": "text/x-python",
   "name": "python",
   "nbconvert_exporter": "python",
   "pygments_lexer": "ipython3",
   "version": "3.10.11"
  }
 },
 "nbformat": 4,
 "nbformat_minor": 5
}
