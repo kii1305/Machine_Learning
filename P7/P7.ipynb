{
 "cells": [
  {
   "cell_type": "markdown",
   "id": "4bc39297",
   "metadata": {},
   "source": [
    "📘 Lembar Kerja Pertemuan 7 — Artificial Neural Network (ANN) untuk Klasifikasi"
   ]
  },
  {
   "cell_type": "markdown",
   "id": "fb95ae26",
   "metadata": {},
   "source": [
    "Langkah 1 — Siapkan Data"
   ]
  },
  {
   "cell_type": "code",
   "execution_count": 2,
   "id": "59db94d5",
   "metadata": {},
   "outputs": [
    {
     "name": "stdout",
     "output_type": "stream",
     "text": [
      "(6, 5) (2, 5) (2, 5)\n"
     ]
    }
   ],
   "source": [
    "import pandas as pd\n",
    "from sklearn.model_selection import train_test_split\n",
    "from sklearn.preprocessing import StandardScaler\n",
    "\n",
    "df = pd.read_csv(\"../P4/processed_kelulusan.csv\")\n",
    "X = df.drop(\"Lulus\", axis=1)\n",
    "y = df[\"Lulus\"]\n",
    "\n",
    "sc = StandardScaler()\n",
    "Xs = sc.fit_transform(X)\n",
    "\n",
    "X_train, X_temp, y_train, y_temp = train_test_split(\n",
    "    Xs, y, test_size=0.4, stratify=y, random_state=42)\n",
    "X_val, X_test, y_val, y_test = train_test_split(\n",
    "    X_temp, y_temp, test_size=0.5, stratify=y_temp, random_state=42)\n",
    "\n",
    "print(X_train.shape, X_val.shape, X_test.shape)"
   ]
  },
  {
   "cell_type": "markdown",
   "id": "c9dec61d",
   "metadata": {},
   "source": [
    "Langkah 2 — Bangun Model ANN"
   ]
  },
  {
   "cell_type": "code",
   "execution_count": 3,
   "id": "4d943591",
   "metadata": {},
   "outputs": [
    {
     "data": {
      "text/html": [
       "<pre style=\"white-space:pre;overflow-x:auto;line-height:normal;font-family:Menlo,'DejaVu Sans Mono',consolas,'Courier New',monospace\"><span style=\"font-weight: bold\">Model: \"sequential\"</span>\n",
       "</pre>\n"
      ],
      "text/plain": [
       "\u001b[1mModel: \"sequential\"\u001b[0m\n"
      ]
     },
     "metadata": {},
     "output_type": "display_data"
    },
    {
     "data": {
      "text/html": [
       "<pre style=\"white-space:pre;overflow-x:auto;line-height:normal;font-family:Menlo,'DejaVu Sans Mono',consolas,'Courier New',monospace\">┏━━━━━━━━━━━━━━━━━━━━━━━━━━━━━━━━━┳━━━━━━━━━━━━━━━━━━━━━━━━┳━━━━━━━━━━━━━━━┓\n",
       "┃<span style=\"font-weight: bold\"> Layer (type)                    </span>┃<span style=\"font-weight: bold\"> Output Shape           </span>┃<span style=\"font-weight: bold\">       Param # </span>┃\n",
       "┡━━━━━━━━━━━━━━━━━━━━━━━━━━━━━━━━━╇━━━━━━━━━━━━━━━━━━━━━━━━╇━━━━━━━━━━━━━━━┩\n",
       "│ dense (<span style=\"color: #0087ff; text-decoration-color: #0087ff\">Dense</span>)                   │ (<span style=\"color: #00d7ff; text-decoration-color: #00d7ff\">None</span>, <span style=\"color: #00af00; text-decoration-color: #00af00\">32</span>)             │           <span style=\"color: #00af00; text-decoration-color: #00af00\">192</span> │\n",
       "├─────────────────────────────────┼────────────────────────┼───────────────┤\n",
       "│ dropout (<span style=\"color: #0087ff; text-decoration-color: #0087ff\">Dropout</span>)               │ (<span style=\"color: #00d7ff; text-decoration-color: #00d7ff\">None</span>, <span style=\"color: #00af00; text-decoration-color: #00af00\">32</span>)             │             <span style=\"color: #00af00; text-decoration-color: #00af00\">0</span> │\n",
       "├─────────────────────────────────┼────────────────────────┼───────────────┤\n",
       "│ dense_1 (<span style=\"color: #0087ff; text-decoration-color: #0087ff\">Dense</span>)                 │ (<span style=\"color: #00d7ff; text-decoration-color: #00d7ff\">None</span>, <span style=\"color: #00af00; text-decoration-color: #00af00\">16</span>)             │           <span style=\"color: #00af00; text-decoration-color: #00af00\">528</span> │\n",
       "├─────────────────────────────────┼────────────────────────┼───────────────┤\n",
       "│ dense_2 (<span style=\"color: #0087ff; text-decoration-color: #0087ff\">Dense</span>)                 │ (<span style=\"color: #00d7ff; text-decoration-color: #00d7ff\">None</span>, <span style=\"color: #00af00; text-decoration-color: #00af00\">1</span>)              │            <span style=\"color: #00af00; text-decoration-color: #00af00\">17</span> │\n",
       "└─────────────────────────────────┴────────────────────────┴───────────────┘\n",
       "</pre>\n"
      ],
      "text/plain": [
       "┏━━━━━━━━━━━━━━━━━━━━━━━━━━━━━━━━━┳━━━━━━━━━━━━━━━━━━━━━━━━┳━━━━━━━━━━━━━━━┓\n",
       "┃\u001b[1m \u001b[0m\u001b[1mLayer (type)                   \u001b[0m\u001b[1m \u001b[0m┃\u001b[1m \u001b[0m\u001b[1mOutput Shape          \u001b[0m\u001b[1m \u001b[0m┃\u001b[1m \u001b[0m\u001b[1m      Param #\u001b[0m\u001b[1m \u001b[0m┃\n",
       "┡━━━━━━━━━━━━━━━━━━━━━━━━━━━━━━━━━╇━━━━━━━━━━━━━━━━━━━━━━━━╇━━━━━━━━━━━━━━━┩\n",
       "│ dense (\u001b[38;5;33mDense\u001b[0m)                   │ (\u001b[38;5;45mNone\u001b[0m, \u001b[38;5;34m32\u001b[0m)             │           \u001b[38;5;34m192\u001b[0m │\n",
       "├─────────────────────────────────┼────────────────────────┼───────────────┤\n",
       "│ dropout (\u001b[38;5;33mDropout\u001b[0m)               │ (\u001b[38;5;45mNone\u001b[0m, \u001b[38;5;34m32\u001b[0m)             │             \u001b[38;5;34m0\u001b[0m │\n",
       "├─────────────────────────────────┼────────────────────────┼───────────────┤\n",
       "│ dense_1 (\u001b[38;5;33mDense\u001b[0m)                 │ (\u001b[38;5;45mNone\u001b[0m, \u001b[38;5;34m16\u001b[0m)             │           \u001b[38;5;34m528\u001b[0m │\n",
       "├─────────────────────────────────┼────────────────────────┼───────────────┤\n",
       "│ dense_2 (\u001b[38;5;33mDense\u001b[0m)                 │ (\u001b[38;5;45mNone\u001b[0m, \u001b[38;5;34m1\u001b[0m)              │            \u001b[38;5;34m17\u001b[0m │\n",
       "└─────────────────────────────────┴────────────────────────┴───────────────┘\n"
      ]
     },
     "metadata": {},
     "output_type": "display_data"
    },
    {
     "data": {
      "text/html": [
       "<pre style=\"white-space:pre;overflow-x:auto;line-height:normal;font-family:Menlo,'DejaVu Sans Mono',consolas,'Courier New',monospace\"><span style=\"font-weight: bold\"> Total params: </span><span style=\"color: #00af00; text-decoration-color: #00af00\">737</span> (2.88 KB)\n",
       "</pre>\n"
      ],
      "text/plain": [
       "\u001b[1m Total params: \u001b[0m\u001b[38;5;34m737\u001b[0m (2.88 KB)\n"
      ]
     },
     "metadata": {},
     "output_type": "display_data"
    },
    {
     "data": {
      "text/html": [
       "<pre style=\"white-space:pre;overflow-x:auto;line-height:normal;font-family:Menlo,'DejaVu Sans Mono',consolas,'Courier New',monospace\"><span style=\"font-weight: bold\"> Trainable params: </span><span style=\"color: #00af00; text-decoration-color: #00af00\">737</span> (2.88 KB)\n",
       "</pre>\n"
      ],
      "text/plain": [
       "\u001b[1m Trainable params: \u001b[0m\u001b[38;5;34m737\u001b[0m (2.88 KB)\n"
      ]
     },
     "metadata": {},
     "output_type": "display_data"
    },
    {
     "data": {
      "text/html": [
       "<pre style=\"white-space:pre;overflow-x:auto;line-height:normal;font-family:Menlo,'DejaVu Sans Mono',consolas,'Courier New',monospace\"><span style=\"font-weight: bold\"> Non-trainable params: </span><span style=\"color: #00af00; text-decoration-color: #00af00\">0</span> (0.00 B)\n",
       "</pre>\n"
      ],
      "text/plain": [
       "\u001b[1m Non-trainable params: \u001b[0m\u001b[38;5;34m0\u001b[0m (0.00 B)\n"
      ]
     },
     "metadata": {},
     "output_type": "display_data"
    }
   ],
   "source": [
    "import tensorflow as tf\n",
    "from tensorflow import keras\n",
    "from tensorflow.keras import layers\n",
    "\n",
    "model = keras.Sequential([\n",
    "    layers.Input(shape=(X_train.shape[1],)),\n",
    "    layers.Dense(32, activation=\"relu\"),\n",
    "    layers.Dropout(0.3),\n",
    "    layers.Dense(16, activation=\"relu\"),\n",
    "    layers.Dense(1, activation=\"sigmoid\")  # klasifikasi biner\n",
    "])\n",
    "\n",
    "model.compile(optimizer=keras.optimizers.Adam(1e-3),\n",
    "              loss=\"binary_crossentropy\",\n",
    "              metrics=[\"accuracy\",\"AUC\"])\n",
    "model.summary()"
   ]
  },
  {
   "cell_type": "markdown",
   "id": "26cf29fc",
   "metadata": {},
   "source": [
    "Langkah 3 — Training dengan Early Stopping"
   ]
  },
  {
   "cell_type": "code",
   "execution_count": 4,
   "id": "1d7aec36",
   "metadata": {},
   "outputs": [
    {
     "name": "stdout",
     "output_type": "stream",
     "text": [
      "Epoch 1/100\n",
      "\u001b[1m1/1\u001b[0m \u001b[32m━━━━━━━━━━━━━━━━━━━━\u001b[0m\u001b[37m\u001b[0m \u001b[1m17s\u001b[0m 17s/step - AUC: 1.0000 - accuracy: 1.0000 - loss: 0.6121 - val_AUC: 1.0000 - val_accuracy: 1.0000 - val_loss: 0.5935\n",
      "Epoch 2/100\n",
      "\u001b[1m1/1\u001b[0m \u001b[32m━━━━━━━━━━━━━━━━━━━━\u001b[0m\u001b[37m\u001b[0m \u001b[1m2s\u001b[0m 2s/step - AUC: 0.7778 - accuracy: 0.6667 - loss: 0.6510 - val_AUC: 1.0000 - val_accuracy: 1.0000 - val_loss: 0.5802\n",
      "Epoch 3/100\n",
      "\u001b[1m1/1\u001b[0m \u001b[32m━━━━━━━━━━━━━━━━━━━━\u001b[0m\u001b[37m\u001b[0m \u001b[1m1s\u001b[0m 766ms/step - AUC: 0.8889 - accuracy: 0.8333 - loss: 0.5857 - val_AUC: 1.0000 - val_accuracy: 1.0000 - val_loss: 0.5680\n",
      "Epoch 4/100\n",
      "\u001b[1m1/1\u001b[0m \u001b[32m━━━━━━━━━━━━━━━━━━━━\u001b[0m\u001b[37m\u001b[0m \u001b[1m1s\u001b[0m 1s/step - AUC: 1.0000 - accuracy: 0.8333 - loss: 0.6309 - val_AUC: 1.0000 - val_accuracy: 1.0000 - val_loss: 0.5561\n",
      "Epoch 5/100\n",
      "\u001b[1m1/1\u001b[0m \u001b[32m━━━━━━━━━━━━━━━━━━━━\u001b[0m\u001b[37m\u001b[0m \u001b[1m1s\u001b[0m 1s/step - AUC: 1.0000 - accuracy: 1.0000 - loss: 0.5679 - val_AUC: 1.0000 - val_accuracy: 1.0000 - val_loss: 0.5447\n",
      "Epoch 6/100\n",
      "\u001b[1m1/1\u001b[0m \u001b[32m━━━━━━━━━━━━━━━━━━━━\u001b[0m\u001b[37m\u001b[0m \u001b[1m1s\u001b[0m 1s/step - AUC: 1.0000 - accuracy: 1.0000 - loss: 0.5444 - val_AUC: 1.0000 - val_accuracy: 1.0000 - val_loss: 0.5335\n",
      "Epoch 7/100\n",
      "\u001b[1m1/1\u001b[0m \u001b[32m━━━━━━━━━━━━━━━━━━━━\u001b[0m\u001b[37m\u001b[0m \u001b[1m1s\u001b[0m 762ms/step - AUC: 1.0000 - accuracy: 1.0000 - loss: 0.5478 - val_AUC: 1.0000 - val_accuracy: 1.0000 - val_loss: 0.5223\n",
      "Epoch 8/100\n",
      "\u001b[1m1/1\u001b[0m \u001b[32m━━━━━━━━━━━━━━━━━━━━\u001b[0m\u001b[37m\u001b[0m \u001b[1m1s\u001b[0m 821ms/step - AUC: 1.0000 - accuracy: 1.0000 - loss: 0.5251 - val_AUC: 1.0000 - val_accuracy: 1.0000 - val_loss: 0.5111\n",
      "Epoch 9/100\n",
      "\u001b[1m1/1\u001b[0m \u001b[32m━━━━━━━━━━━━━━━━━━━━\u001b[0m\u001b[37m\u001b[0m \u001b[1m1s\u001b[0m 732ms/step - AUC: 0.8333 - accuracy: 0.8333 - loss: 0.6426 - val_AUC: 1.0000 - val_accuracy: 1.0000 - val_loss: 0.4999\n",
      "Epoch 10/100\n",
      "\u001b[1m1/1\u001b[0m \u001b[32m━━━━━━━━━━━━━━━━━━━━\u001b[0m\u001b[37m\u001b[0m \u001b[1m1s\u001b[0m 1s/step - AUC: 1.0000 - accuracy: 1.0000 - loss: 0.5435 - val_AUC: 1.0000 - val_accuracy: 1.0000 - val_loss: 0.4890\n",
      "Epoch 11/100\n",
      "\u001b[1m1/1\u001b[0m \u001b[32m━━━━━━━━━━━━━━━━━━━━\u001b[0m\u001b[37m\u001b[0m \u001b[1m1s\u001b[0m 645ms/step - AUC: 1.0000 - accuracy: 1.0000 - loss: 0.5261 - val_AUC: 1.0000 - val_accuracy: 1.0000 - val_loss: 0.4785\n",
      "Epoch 12/100\n",
      "\u001b[1m1/1\u001b[0m \u001b[32m━━━━━━━━━━━━━━━━━━━━\u001b[0m\u001b[37m\u001b[0m \u001b[1m1s\u001b[0m 539ms/step - AUC: 1.0000 - accuracy: 1.0000 - loss: 0.4742 - val_AUC: 1.0000 - val_accuracy: 1.0000 - val_loss: 0.4681\n",
      "Epoch 13/100\n",
      "\u001b[1m1/1\u001b[0m \u001b[32m━━━━━━━━━━━━━━━━━━━━\u001b[0m\u001b[37m\u001b[0m \u001b[1m1s\u001b[0m 599ms/step - AUC: 1.0000 - accuracy: 1.0000 - loss: 0.4679 - val_AUC: 1.0000 - val_accuracy: 1.0000 - val_loss: 0.4580\n",
      "Epoch 14/100\n",
      "\u001b[1m1/1\u001b[0m \u001b[32m━━━━━━━━━━━━━━━━━━━━\u001b[0m\u001b[37m\u001b[0m \u001b[1m1s\u001b[0m 815ms/step - AUC: 1.0000 - accuracy: 1.0000 - loss: 0.5035 - val_AUC: 1.0000 - val_accuracy: 1.0000 - val_loss: 0.4480\n",
      "Epoch 15/100\n",
      "\u001b[1m1/1\u001b[0m \u001b[32m━━━━━━━━━━━━━━━━━━━━\u001b[0m\u001b[37m\u001b[0m \u001b[1m0s\u001b[0m 443ms/step - AUC: 1.0000 - accuracy: 1.0000 - loss: 0.4794 - val_AUC: 1.0000 - val_accuracy: 1.0000 - val_loss: 0.4380\n",
      "Epoch 16/100\n",
      "\u001b[1m1/1\u001b[0m \u001b[32m━━━━━━━━━━━━━━━━━━━━\u001b[0m\u001b[37m\u001b[0m \u001b[1m0s\u001b[0m 412ms/step - AUC: 1.0000 - accuracy: 1.0000 - loss: 0.5143 - val_AUC: 1.0000 - val_accuracy: 1.0000 - val_loss: 0.4280\n",
      "Epoch 17/100\n",
      "\u001b[1m1/1\u001b[0m \u001b[32m━━━━━━━━━━━━━━━━━━━━\u001b[0m\u001b[37m\u001b[0m \u001b[1m0s\u001b[0m 385ms/step - AUC: 1.0000 - accuracy: 0.8333 - loss: 0.4536 - val_AUC: 1.0000 - val_accuracy: 1.0000 - val_loss: 0.4183\n",
      "Epoch 18/100\n",
      "\u001b[1m1/1\u001b[0m \u001b[32m━━━━━━━━━━━━━━━━━━━━\u001b[0m\u001b[37m\u001b[0m \u001b[1m1s\u001b[0m 659ms/step - AUC: 1.0000 - accuracy: 1.0000 - loss: 0.4914 - val_AUC: 1.0000 - val_accuracy: 1.0000 - val_loss: 0.4089\n",
      "Epoch 19/100\n",
      "\u001b[1m1/1\u001b[0m \u001b[32m━━━━━━━━━━━━━━━━━━━━\u001b[0m\u001b[37m\u001b[0m \u001b[1m0s\u001b[0m 285ms/step - AUC: 1.0000 - accuracy: 1.0000 - loss: 0.4391 - val_AUC: 1.0000 - val_accuracy: 1.0000 - val_loss: 0.3996\n",
      "Epoch 20/100\n",
      "\u001b[1m1/1\u001b[0m \u001b[32m━━━━━━━━━━━━━━━━━━━━\u001b[0m\u001b[37m\u001b[0m \u001b[1m0s\u001b[0m 382ms/step - AUC: 1.0000 - accuracy: 1.0000 - loss: 0.4466 - val_AUC: 1.0000 - val_accuracy: 1.0000 - val_loss: 0.3913\n",
      "Epoch 21/100\n",
      "\u001b[1m1/1\u001b[0m \u001b[32m━━━━━━━━━━━━━━━━━━━━\u001b[0m\u001b[37m\u001b[0m \u001b[1m0s\u001b[0m 477ms/step - AUC: 1.0000 - accuracy: 1.0000 - loss: 0.4123 - val_AUC: 1.0000 - val_accuracy: 1.0000 - val_loss: 0.3830\n",
      "Epoch 22/100\n",
      "\u001b[1m1/1\u001b[0m \u001b[32m━━━━━━━━━━━━━━━━━━━━\u001b[0m\u001b[37m\u001b[0m \u001b[1m1s\u001b[0m 867ms/step - AUC: 1.0000 - accuracy: 1.0000 - loss: 0.4667 - val_AUC: 1.0000 - val_accuracy: 1.0000 - val_loss: 0.3741\n",
      "Epoch 23/100\n",
      "\u001b[1m1/1\u001b[0m \u001b[32m━━━━━━━━━━━━━━━━━━━━\u001b[0m\u001b[37m\u001b[0m \u001b[1m1s\u001b[0m 692ms/step - AUC: 1.0000 - accuracy: 1.0000 - loss: 0.3666 - val_AUC: 1.0000 - val_accuracy: 1.0000 - val_loss: 0.3650\n",
      "Epoch 24/100\n",
      "\u001b[1m1/1\u001b[0m \u001b[32m━━━━━━━━━━━━━━━━━━━━\u001b[0m\u001b[37m\u001b[0m \u001b[1m1s\u001b[0m 750ms/step - AUC: 1.0000 - accuracy: 1.0000 - loss: 0.4050 - val_AUC: 1.0000 - val_accuracy: 1.0000 - val_loss: 0.3559\n",
      "Epoch 25/100\n",
      "\u001b[1m1/1\u001b[0m \u001b[32m━━━━━━━━━━━━━━━━━━━━\u001b[0m\u001b[37m\u001b[0m \u001b[1m1s\u001b[0m 1s/step - AUC: 1.0000 - accuracy: 1.0000 - loss: 0.3971 - val_AUC: 1.0000 - val_accuracy: 1.0000 - val_loss: 0.3470\n",
      "Epoch 26/100\n",
      "\u001b[1m1/1\u001b[0m \u001b[32m━━━━━━━━━━━━━━━━━━━━\u001b[0m\u001b[37m\u001b[0m \u001b[1m1s\u001b[0m 648ms/step - AUC: 1.0000 - accuracy: 1.0000 - loss: 0.4222 - val_AUC: 1.0000 - val_accuracy: 1.0000 - val_loss: 0.3382\n",
      "Epoch 27/100\n",
      "\u001b[1m1/1\u001b[0m \u001b[32m━━━━━━━━━━━━━━━━━━━━\u001b[0m\u001b[37m\u001b[0m \u001b[1m1s\u001b[0m 784ms/step - AUC: 1.0000 - accuracy: 1.0000 - loss: 0.3732 - val_AUC: 1.0000 - val_accuracy: 1.0000 - val_loss: 0.3295\n",
      "Epoch 28/100\n",
      "\u001b[1m1/1\u001b[0m \u001b[32m━━━━━━━━━━━━━━━━━━━━\u001b[0m\u001b[37m\u001b[0m \u001b[1m1s\u001b[0m 961ms/step - AUC: 1.0000 - accuracy: 1.0000 - loss: 0.3766 - val_AUC: 1.0000 - val_accuracy: 1.0000 - val_loss: 0.3210\n",
      "Epoch 29/100\n",
      "\u001b[1m1/1\u001b[0m \u001b[32m━━━━━━━━━━━━━━━━━━━━\u001b[0m\u001b[37m\u001b[0m \u001b[1m1s\u001b[0m 1s/step - AUC: 1.0000 - accuracy: 1.0000 - loss: 0.4343 - val_AUC: 1.0000 - val_accuracy: 1.0000 - val_loss: 0.3126\n",
      "Epoch 30/100\n",
      "\u001b[1m1/1\u001b[0m \u001b[32m━━━━━━━━━━━━━━━━━━━━\u001b[0m\u001b[37m\u001b[0m \u001b[1m1s\u001b[0m 1s/step - AUC: 1.0000 - accuracy: 1.0000 - loss: 0.3594 - val_AUC: 1.0000 - val_accuracy: 1.0000 - val_loss: 0.3042\n",
      "Epoch 31/100\n",
      "\u001b[1m1/1\u001b[0m \u001b[32m━━━━━━━━━━━━━━━━━━━━\u001b[0m\u001b[37m\u001b[0m \u001b[1m1s\u001b[0m 1s/step - AUC: 1.0000 - accuracy: 1.0000 - loss: 0.3804 - val_AUC: 1.0000 - val_accuracy: 1.0000 - val_loss: 0.2960\n",
      "Epoch 32/100\n",
      "\u001b[1m1/1\u001b[0m \u001b[32m━━━━━━━━━━━━━━━━━━━━\u001b[0m\u001b[37m\u001b[0m \u001b[1m1s\u001b[0m 639ms/step - AUC: 1.0000 - accuracy: 1.0000 - loss: 0.4030 - val_AUC: 1.0000 - val_accuracy: 1.0000 - val_loss: 0.2880\n",
      "Epoch 33/100\n",
      "\u001b[1m1/1\u001b[0m \u001b[32m━━━━━━━━━━━━━━━━━━━━\u001b[0m\u001b[37m\u001b[0m \u001b[1m1s\u001b[0m 691ms/step - AUC: 1.0000 - accuracy: 1.0000 - loss: 0.2971 - val_AUC: 1.0000 - val_accuracy: 1.0000 - val_loss: 0.2801\n",
      "Epoch 34/100\n",
      "\u001b[1m1/1\u001b[0m \u001b[32m━━━━━━━━━━━━━━━━━━━━\u001b[0m\u001b[37m\u001b[0m \u001b[1m2s\u001b[0m 2s/step - AUC: 1.0000 - accuracy: 1.0000 - loss: 0.3357 - val_AUC: 1.0000 - val_accuracy: 1.0000 - val_loss: 0.2724\n",
      "Epoch 35/100\n",
      "\u001b[1m1/1\u001b[0m \u001b[32m━━━━━━━━━━━━━━━━━━━━\u001b[0m\u001b[37m\u001b[0m \u001b[1m2s\u001b[0m 2s/step - AUC: 1.0000 - accuracy: 1.0000 - loss: 0.3208 - val_AUC: 1.0000 - val_accuracy: 1.0000 - val_loss: 0.2648\n",
      "Epoch 36/100\n",
      "\u001b[1m1/1\u001b[0m \u001b[32m━━━━━━━━━━━━━━━━━━━━\u001b[0m\u001b[37m\u001b[0m \u001b[1m0s\u001b[0m 431ms/step - AUC: 1.0000 - accuracy: 1.0000 - loss: 0.3635 - val_AUC: 1.0000 - val_accuracy: 1.0000 - val_loss: 0.2574\n",
      "Epoch 37/100\n",
      "\u001b[1m1/1\u001b[0m \u001b[32m━━━━━━━━━━━━━━━━━━━━\u001b[0m\u001b[37m\u001b[0m \u001b[1m1s\u001b[0m 504ms/step - AUC: 1.0000 - accuracy: 1.0000 - loss: 0.3154 - val_AUC: 1.0000 - val_accuracy: 1.0000 - val_loss: 0.2501\n",
      "Epoch 38/100\n",
      "\u001b[1m1/1\u001b[0m \u001b[32m━━━━━━━━━━━━━━━━━━━━\u001b[0m\u001b[37m\u001b[0m \u001b[1m0s\u001b[0m 483ms/step - AUC: 1.0000 - accuracy: 1.0000 - loss: 0.3712 - val_AUC: 1.0000 - val_accuracy: 1.0000 - val_loss: 0.2430\n",
      "Epoch 39/100\n",
      "\u001b[1m1/1\u001b[0m \u001b[32m━━━━━━━━━━━━━━━━━━━━\u001b[0m\u001b[37m\u001b[0m \u001b[1m0s\u001b[0m 484ms/step - AUC: 1.0000 - accuracy: 1.0000 - loss: 0.3032 - val_AUC: 1.0000 - val_accuracy: 1.0000 - val_loss: 0.2361\n",
      "Epoch 40/100\n",
      "\u001b[1m1/1\u001b[0m \u001b[32m━━━━━━━━━━━━━━━━━━━━\u001b[0m\u001b[37m\u001b[0m \u001b[1m1s\u001b[0m 578ms/step - AUC: 1.0000 - accuracy: 1.0000 - loss: 0.3506 - val_AUC: 1.0000 - val_accuracy: 1.0000 - val_loss: 0.2295\n",
      "Epoch 41/100\n",
      "\u001b[1m1/1\u001b[0m \u001b[32m━━━━━━━━━━━━━━━━━━━━\u001b[0m\u001b[37m\u001b[0m \u001b[1m1s\u001b[0m 1s/step - AUC: 1.0000 - accuracy: 1.0000 - loss: 0.3076 - val_AUC: 1.0000 - val_accuracy: 1.0000 - val_loss: 0.2229\n",
      "Epoch 42/100\n",
      "\u001b[1m1/1\u001b[0m \u001b[32m━━━━━━━━━━━━━━━━━━━━\u001b[0m\u001b[37m\u001b[0m \u001b[1m1s\u001b[0m 609ms/step - AUC: 1.0000 - accuracy: 1.0000 - loss: 0.3444 - val_AUC: 1.0000 - val_accuracy: 1.0000 - val_loss: 0.2164\n",
      "Epoch 43/100\n",
      "\u001b[1m1/1\u001b[0m \u001b[32m━━━━━━━━━━━━━━━━━━━━\u001b[0m\u001b[37m\u001b[0m \u001b[1m2s\u001b[0m 2s/step - AUC: 1.0000 - accuracy: 1.0000 - loss: 0.2543 - val_AUC: 1.0000 - val_accuracy: 1.0000 - val_loss: 0.2101\n",
      "Epoch 44/100\n",
      "\u001b[1m1/1\u001b[0m \u001b[32m━━━━━━━━━━━━━━━━━━━━\u001b[0m\u001b[37m\u001b[0m \u001b[1m1s\u001b[0m 699ms/step - AUC: 1.0000 - accuracy: 1.0000 - loss: 0.2379 - val_AUC: 1.0000 - val_accuracy: 1.0000 - val_loss: 0.2040\n",
      "Epoch 45/100\n",
      "\u001b[1m1/1\u001b[0m \u001b[32m━━━━━━━━━━━━━━━━━━━━\u001b[0m\u001b[37m\u001b[0m \u001b[1m1s\u001b[0m 1s/step - AUC: 1.0000 - accuracy: 1.0000 - loss: 0.3383 - val_AUC: 1.0000 - val_accuracy: 1.0000 - val_loss: 0.1980\n",
      "Epoch 46/100\n",
      "\u001b[1m1/1\u001b[0m \u001b[32m━━━━━━━━━━━━━━━━━━━━\u001b[0m\u001b[37m\u001b[0m \u001b[1m1s\u001b[0m 690ms/step - AUC: 1.0000 - accuracy: 1.0000 - loss: 0.2621 - val_AUC: 1.0000 - val_accuracy: 1.0000 - val_loss: 0.1922\n",
      "Epoch 47/100\n",
      "\u001b[1m1/1\u001b[0m \u001b[32m━━━━━━━━━━━━━━━━━━━━\u001b[0m\u001b[37m\u001b[0m \u001b[1m2s\u001b[0m 2s/step - AUC: 1.0000 - accuracy: 1.0000 - loss: 0.3157 - val_AUC: 1.0000 - val_accuracy: 1.0000 - val_loss: 0.1865\n",
      "Epoch 48/100\n",
      "\u001b[1m1/1\u001b[0m \u001b[32m━━━━━━━━━━━━━━━━━━━━\u001b[0m\u001b[37m\u001b[0m \u001b[1m2s\u001b[0m 2s/step - AUC: 1.0000 - accuracy: 1.0000 - loss: 0.3284 - val_AUC: 1.0000 - val_accuracy: 1.0000 - val_loss: 0.1810\n",
      "Epoch 49/100\n",
      "\u001b[1m1/1\u001b[0m \u001b[32m━━━━━━━━━━━━━━━━━━━━\u001b[0m\u001b[37m\u001b[0m \u001b[1m1s\u001b[0m 972ms/step - AUC: 1.0000 - accuracy: 1.0000 - loss: 0.2666 - val_AUC: 1.0000 - val_accuracy: 1.0000 - val_loss: 0.1756\n",
      "Epoch 50/100\n",
      "\u001b[1m1/1\u001b[0m \u001b[32m━━━━━━━━━━━━━━━━━━━━\u001b[0m\u001b[37m\u001b[0m \u001b[1m0s\u001b[0m 366ms/step - AUC: 1.0000 - accuracy: 1.0000 - loss: 0.2401 - val_AUC: 1.0000 - val_accuracy: 1.0000 - val_loss: 0.1704\n",
      "Epoch 51/100\n",
      "\u001b[1m1/1\u001b[0m \u001b[32m━━━━━━━━━━━━━━━━━━━━\u001b[0m\u001b[37m\u001b[0m \u001b[1m0s\u001b[0m 310ms/step - AUC: 1.0000 - accuracy: 1.0000 - loss: 0.2561 - val_AUC: 1.0000 - val_accuracy: 1.0000 - val_loss: 0.1653\n",
      "Epoch 52/100\n",
      "\u001b[1m1/1\u001b[0m \u001b[32m━━━━━━━━━━━━━━━━━━━━\u001b[0m\u001b[37m\u001b[0m \u001b[1m0s\u001b[0m 270ms/step - AUC: 1.0000 - accuracy: 1.0000 - loss: 0.2141 - val_AUC: 1.0000 - val_accuracy: 1.0000 - val_loss: 0.1603\n",
      "Epoch 53/100\n",
      "\u001b[1m1/1\u001b[0m \u001b[32m━━━━━━━━━━━━━━━━━━━━\u001b[0m\u001b[37m\u001b[0m \u001b[1m1s\u001b[0m 783ms/step - AUC: 1.0000 - accuracy: 1.0000 - loss: 0.2352 - val_AUC: 1.0000 - val_accuracy: 1.0000 - val_loss: 0.1555\n",
      "Epoch 54/100\n",
      "\u001b[1m1/1\u001b[0m \u001b[32m━━━━━━━━━━━━━━━━━━━━\u001b[0m\u001b[37m\u001b[0m \u001b[1m1s\u001b[0m 1s/step - AUC: 1.0000 - accuracy: 1.0000 - loss: 0.2304 - val_AUC: 1.0000 - val_accuracy: 1.0000 - val_loss: 0.1507\n",
      "Epoch 55/100\n",
      "\u001b[1m1/1\u001b[0m \u001b[32m━━━━━━━━━━━━━━━━━━━━\u001b[0m\u001b[37m\u001b[0m \u001b[1m1s\u001b[0m 694ms/step - AUC: 1.0000 - accuracy: 1.0000 - loss: 0.2642 - val_AUC: 1.0000 - val_accuracy: 1.0000 - val_loss: 0.1462\n",
      "Epoch 56/100\n",
      "\u001b[1m1/1\u001b[0m \u001b[32m━━━━━━━━━━━━━━━━━━━━\u001b[0m\u001b[37m\u001b[0m \u001b[1m1s\u001b[0m 1s/step - AUC: 1.0000 - accuracy: 1.0000 - loss: 0.2040 - val_AUC: 1.0000 - val_accuracy: 1.0000 - val_loss: 0.1417\n",
      "Epoch 57/100\n",
      "\u001b[1m1/1\u001b[0m \u001b[32m━━━━━━━━━━━━━━━━━━━━\u001b[0m\u001b[37m\u001b[0m \u001b[1m2s\u001b[0m 2s/step - AUC: 1.0000 - accuracy: 1.0000 - loss: 0.1949 - val_AUC: 1.0000 - val_accuracy: 1.0000 - val_loss: 0.1374\n",
      "Epoch 58/100\n",
      "\u001b[1m1/1\u001b[0m \u001b[32m━━━━━━━━━━━━━━━━━━━━\u001b[0m\u001b[37m\u001b[0m \u001b[1m1s\u001b[0m 635ms/step - AUC: 1.0000 - accuracy: 1.0000 - loss: 0.2578 - val_AUC: 1.0000 - val_accuracy: 1.0000 - val_loss: 0.1333\n",
      "Epoch 59/100\n",
      "\u001b[1m1/1\u001b[0m \u001b[32m━━━━━━━━━━━━━━━━━━━━\u001b[0m\u001b[37m\u001b[0m \u001b[1m2s\u001b[0m 2s/step - AUC: 1.0000 - accuracy: 1.0000 - loss: 0.1710 - val_AUC: 1.0000 - val_accuracy: 1.0000 - val_loss: 0.1292\n",
      "Epoch 60/100\n",
      "\u001b[1m1/1\u001b[0m \u001b[32m━━━━━━━━━━━━━━━━━━━━\u001b[0m\u001b[37m\u001b[0m \u001b[1m1s\u001b[0m 643ms/step - AUC: 1.0000 - accuracy: 1.0000 - loss: 0.1675 - val_AUC: 1.0000 - val_accuracy: 1.0000 - val_loss: 0.1254\n",
      "Epoch 61/100\n",
      "\u001b[1m1/1\u001b[0m \u001b[32m━━━━━━━━━━━━━━━━━━━━\u001b[0m\u001b[37m\u001b[0m \u001b[1m1s\u001b[0m 577ms/step - AUC: 1.0000 - accuracy: 1.0000 - loss: 0.2012 - val_AUC: 1.0000 - val_accuracy: 1.0000 - val_loss: 0.1215\n",
      "Epoch 62/100\n",
      "\u001b[1m1/1\u001b[0m \u001b[32m━━━━━━━━━━━━━━━━━━━━\u001b[0m\u001b[37m\u001b[0m \u001b[1m1s\u001b[0m 820ms/step - AUC: 1.0000 - accuracy: 1.0000 - loss: 0.1975 - val_AUC: 1.0000 - val_accuracy: 1.0000 - val_loss: 0.1178\n",
      "Epoch 63/100\n",
      "\u001b[1m1/1\u001b[0m \u001b[32m━━━━━━━━━━━━━━━━━━━━\u001b[0m\u001b[37m\u001b[0m \u001b[1m1s\u001b[0m 1s/step - AUC: 1.0000 - accuracy: 1.0000 - loss: 0.1652 - val_AUC: 1.0000 - val_accuracy: 1.0000 - val_loss: 0.1142\n",
      "Epoch 64/100\n",
      "\u001b[1m1/1\u001b[0m \u001b[32m━━━━━━━━━━━━━━━━━━━━\u001b[0m\u001b[37m\u001b[0m \u001b[1m1s\u001b[0m 1s/step - AUC: 1.0000 - accuracy: 1.0000 - loss: 0.2086 - val_AUC: 1.0000 - val_accuracy: 1.0000 - val_loss: 0.1108\n",
      "Epoch 65/100\n",
      "\u001b[1m1/1\u001b[0m \u001b[32m━━━━━━━━━━━━━━━━━━━━\u001b[0m\u001b[37m\u001b[0m \u001b[1m1s\u001b[0m 1s/step - AUC: 1.0000 - accuracy: 1.0000 - loss: 0.2319 - val_AUC: 1.0000 - val_accuracy: 1.0000 - val_loss: 0.1075\n",
      "Epoch 66/100\n",
      "\u001b[1m1/1\u001b[0m \u001b[32m━━━━━━━━━━━━━━━━━━━━\u001b[0m\u001b[37m\u001b[0m \u001b[1m1s\u001b[0m 611ms/step - AUC: 1.0000 - accuracy: 1.0000 - loss: 0.1416 - val_AUC: 1.0000 - val_accuracy: 1.0000 - val_loss: 0.1043\n",
      "Epoch 67/100\n",
      "\u001b[1m1/1\u001b[0m \u001b[32m━━━━━━━━━━━━━━━━━━━━\u001b[0m\u001b[37m\u001b[0m \u001b[1m1s\u001b[0m 720ms/step - AUC: 1.0000 - accuracy: 1.0000 - loss: 0.1440 - val_AUC: 1.0000 - val_accuracy: 1.0000 - val_loss: 0.1013\n",
      "Epoch 68/100\n",
      "\u001b[1m1/1\u001b[0m \u001b[32m━━━━━━━━━━━━━━━━━━━━\u001b[0m\u001b[37m\u001b[0m \u001b[1m1s\u001b[0m 1s/step - AUC: 1.0000 - accuracy: 1.0000 - loss: 0.1743 - val_AUC: 1.0000 - val_accuracy: 1.0000 - val_loss: 0.0984\n",
      "Epoch 69/100\n",
      "\u001b[1m1/1\u001b[0m \u001b[32m━━━━━━━━━━━━━━━━━━━━\u001b[0m\u001b[37m\u001b[0m \u001b[1m1s\u001b[0m 591ms/step - AUC: 1.0000 - accuracy: 1.0000 - loss: 0.1525 - val_AUC: 1.0000 - val_accuracy: 1.0000 - val_loss: 0.0955\n",
      "Epoch 70/100\n",
      "\u001b[1m1/1\u001b[0m \u001b[32m━━━━━━━━━━━━━━━━━━━━\u001b[0m\u001b[37m\u001b[0m \u001b[1m1s\u001b[0m 582ms/step - AUC: 1.0000 - accuracy: 1.0000 - loss: 0.1379 - val_AUC: 1.0000 - val_accuracy: 1.0000 - val_loss: 0.0928\n",
      "Epoch 71/100\n",
      "\u001b[1m1/1\u001b[0m \u001b[32m━━━━━━━━━━━━━━━━━━━━\u001b[0m\u001b[37m\u001b[0m \u001b[1m1s\u001b[0m 714ms/step - AUC: 1.0000 - accuracy: 1.0000 - loss: 0.1650 - val_AUC: 1.0000 - val_accuracy: 1.0000 - val_loss: 0.0901\n",
      "Epoch 72/100\n",
      "\u001b[1m1/1\u001b[0m \u001b[32m━━━━━━━━━━━━━━━━━━━━\u001b[0m\u001b[37m\u001b[0m \u001b[1m1s\u001b[0m 562ms/step - AUC: 1.0000 - accuracy: 1.0000 - loss: 0.1530 - val_AUC: 1.0000 - val_accuracy: 1.0000 - val_loss: 0.0875\n",
      "Epoch 73/100\n",
      "\u001b[1m1/1\u001b[0m \u001b[32m━━━━━━━━━━━━━━━━━━━━\u001b[0m\u001b[37m\u001b[0m \u001b[1m0s\u001b[0m 316ms/step - AUC: 1.0000 - accuracy: 1.0000 - loss: 0.1573 - val_AUC: 1.0000 - val_accuracy: 1.0000 - val_loss: 0.0850\n",
      "Epoch 74/100\n",
      "\u001b[1m1/1\u001b[0m \u001b[32m━━━━━━━━━━━━━━━━━━━━\u001b[0m\u001b[37m\u001b[0m \u001b[1m1s\u001b[0m 1s/step - AUC: 1.0000 - accuracy: 1.0000 - loss: 0.1826 - val_AUC: 1.0000 - val_accuracy: 1.0000 - val_loss: 0.0826\n",
      "Epoch 75/100\n",
      "\u001b[1m1/1\u001b[0m \u001b[32m━━━━━━━━━━━━━━━━━━━━\u001b[0m\u001b[37m\u001b[0m \u001b[1m1s\u001b[0m 623ms/step - AUC: 1.0000 - accuracy: 1.0000 - loss: 0.1332 - val_AUC: 1.0000 - val_accuracy: 1.0000 - val_loss: 0.0802\n",
      "Epoch 76/100\n",
      "\u001b[1m1/1\u001b[0m \u001b[32m━━━━━━━━━━━━━━━━━━━━\u001b[0m\u001b[37m\u001b[0m \u001b[1m0s\u001b[0m 347ms/step - AUC: 1.0000 - accuracy: 1.0000 - loss: 0.1181 - val_AUC: 1.0000 - val_accuracy: 1.0000 - val_loss: 0.0779\n",
      "Epoch 77/100\n",
      "\u001b[1m1/1\u001b[0m \u001b[32m━━━━━━━━━━━━━━━━━━━━\u001b[0m\u001b[37m\u001b[0m \u001b[1m0s\u001b[0m 302ms/step - AUC: 1.0000 - accuracy: 1.0000 - loss: 0.1837 - val_AUC: 1.0000 - val_accuracy: 1.0000 - val_loss: 0.0756\n",
      "Epoch 78/100\n",
      "\u001b[1m1/1\u001b[0m \u001b[32m━━━━━━━━━━━━━━━━━━━━\u001b[0m\u001b[37m\u001b[0m \u001b[1m1s\u001b[0m 1s/step - AUC: 1.0000 - accuracy: 1.0000 - loss: 0.1431 - val_AUC: 1.0000 - val_accuracy: 1.0000 - val_loss: 0.0734\n",
      "Epoch 79/100\n",
      "\u001b[1m1/1\u001b[0m \u001b[32m━━━━━━━━━━━━━━━━━━━━\u001b[0m\u001b[37m\u001b[0m \u001b[1m2s\u001b[0m 2s/step - AUC: 1.0000 - accuracy: 1.0000 - loss: 0.1573 - val_AUC: 1.0000 - val_accuracy: 1.0000 - val_loss: 0.0713\n",
      "Epoch 80/100\n",
      "\u001b[1m1/1\u001b[0m \u001b[32m━━━━━━━━━━━━━━━━━━━━\u001b[0m\u001b[37m\u001b[0m \u001b[1m1s\u001b[0m 827ms/step - AUC: 1.0000 - accuracy: 1.0000 - loss: 0.1446 - val_AUC: 1.0000 - val_accuracy: 1.0000 - val_loss: 0.0692\n",
      "Epoch 81/100\n",
      "\u001b[1m1/1\u001b[0m \u001b[32m━━━━━━━━━━━━━━━━━━━━\u001b[0m\u001b[37m\u001b[0m \u001b[1m0s\u001b[0m 490ms/step - AUC: 1.0000 - accuracy: 1.0000 - loss: 0.1563 - val_AUC: 1.0000 - val_accuracy: 1.0000 - val_loss: 0.0672\n",
      "Epoch 82/100\n",
      "\u001b[1m1/1\u001b[0m \u001b[32m━━━━━━━━━━━━━━━━━━━━\u001b[0m\u001b[37m\u001b[0m \u001b[1m1s\u001b[0m 590ms/step - AUC: 1.0000 - accuracy: 1.0000 - loss: 0.1742 - val_AUC: 1.0000 - val_accuracy: 1.0000 - val_loss: 0.0653\n",
      "Epoch 83/100\n",
      "\u001b[1m1/1\u001b[0m \u001b[32m━━━━━━━━━━━━━━━━━━━━\u001b[0m\u001b[37m\u001b[0m \u001b[1m0s\u001b[0m 427ms/step - AUC: 1.0000 - accuracy: 1.0000 - loss: 0.1089 - val_AUC: 1.0000 - val_accuracy: 1.0000 - val_loss: 0.0634\n",
      "Epoch 84/100\n",
      "\u001b[1m1/1\u001b[0m \u001b[32m━━━━━━━━━━━━━━━━━━━━\u001b[0m\u001b[37m\u001b[0m \u001b[1m2s\u001b[0m 2s/step - AUC: 1.0000 - accuracy: 1.0000 - loss: 0.1832 - val_AUC: 1.0000 - val_accuracy: 1.0000 - val_loss: 0.0615\n",
      "Epoch 85/100\n",
      "\u001b[1m1/1\u001b[0m \u001b[32m━━━━━━━━━━━━━━━━━━━━\u001b[0m\u001b[37m\u001b[0m \u001b[1m1s\u001b[0m 1s/step - AUC: 1.0000 - accuracy: 1.0000 - loss: 0.1981 - val_AUC: 1.0000 - val_accuracy: 1.0000 - val_loss: 0.0596\n",
      "Epoch 86/100\n",
      "\u001b[1m1/1\u001b[0m \u001b[32m━━━━━━━━━━━━━━━━━━━━\u001b[0m\u001b[37m\u001b[0m \u001b[1m1s\u001b[0m 1s/step - AUC: 1.0000 - accuracy: 1.0000 - loss: 0.1307 - val_AUC: 1.0000 - val_accuracy: 1.0000 - val_loss: 0.0578\n",
      "Epoch 87/100\n",
      "\u001b[1m1/1\u001b[0m \u001b[32m━━━━━━━━━━━━━━━━━━━━\u001b[0m\u001b[37m\u001b[0m \u001b[1m1s\u001b[0m 760ms/step - AUC: 1.0000 - accuracy: 1.0000 - loss: 0.1280 - val_AUC: 1.0000 - val_accuracy: 1.0000 - val_loss: 0.0561\n",
      "Epoch 88/100\n",
      "\u001b[1m1/1\u001b[0m \u001b[32m━━━━━━━━━━━━━━━━━━━━\u001b[0m\u001b[37m\u001b[0m \u001b[1m2s\u001b[0m 2s/step - AUC: 1.0000 - accuracy: 1.0000 - loss: 0.1205 - val_AUC: 1.0000 - val_accuracy: 1.0000 - val_loss: 0.0544\n",
      "Epoch 89/100\n",
      "\u001b[1m1/1\u001b[0m \u001b[32m━━━━━━━━━━━━━━━━━━━━\u001b[0m\u001b[37m\u001b[0m \u001b[1m1s\u001b[0m 1s/step - AUC: 1.0000 - accuracy: 1.0000 - loss: 0.1429 - val_AUC: 1.0000 - val_accuracy: 1.0000 - val_loss: 0.0528\n",
      "Epoch 90/100\n",
      "\u001b[1m1/1\u001b[0m \u001b[32m━━━━━━━━━━━━━━━━━━━━\u001b[0m\u001b[37m\u001b[0m \u001b[1m1s\u001b[0m 908ms/step - AUC: 1.0000 - accuracy: 1.0000 - loss: 0.1012 - val_AUC: 1.0000 - val_accuracy: 1.0000 - val_loss: 0.0513\n",
      "Epoch 91/100\n",
      "\u001b[1m1/1\u001b[0m \u001b[32m━━━━━━━━━━━━━━━━━━━━\u001b[0m\u001b[37m\u001b[0m \u001b[1m2s\u001b[0m 2s/step - AUC: 1.0000 - accuracy: 1.0000 - loss: 0.1048 - val_AUC: 1.0000 - val_accuracy: 1.0000 - val_loss: 0.0498\n",
      "Epoch 92/100\n",
      "\u001b[1m1/1\u001b[0m \u001b[32m━━━━━━━━━━━━━━━━━━━━\u001b[0m\u001b[37m\u001b[0m \u001b[1m1s\u001b[0m 972ms/step - AUC: 1.0000 - accuracy: 1.0000 - loss: 0.1267 - val_AUC: 1.0000 - val_accuracy: 1.0000 - val_loss: 0.0483\n",
      "Epoch 93/100\n",
      "\u001b[1m1/1\u001b[0m \u001b[32m━━━━━━━━━━━━━━━━━━━━\u001b[0m\u001b[37m\u001b[0m \u001b[1m2s\u001b[0m 2s/step - AUC: 1.0000 - accuracy: 1.0000 - loss: 0.1243 - val_AUC: 1.0000 - val_accuracy: 1.0000 - val_loss: 0.0469\n",
      "Epoch 94/100\n",
      "\u001b[1m1/1\u001b[0m \u001b[32m━━━━━━━━━━━━━━━━━━━━\u001b[0m\u001b[37m\u001b[0m \u001b[1m1s\u001b[0m 1s/step - AUC: 1.0000 - accuracy: 1.0000 - loss: 0.1217 - val_AUC: 1.0000 - val_accuracy: 1.0000 - val_loss: 0.0455\n",
      "Epoch 95/100\n",
      "\u001b[1m1/1\u001b[0m \u001b[32m━━━━━━━━━━━━━━━━━━━━\u001b[0m\u001b[37m\u001b[0m \u001b[1m1s\u001b[0m 1s/step - AUC: 1.0000 - accuracy: 1.0000 - loss: 0.1560 - val_AUC: 1.0000 - val_accuracy: 1.0000 - val_loss: 0.0441\n",
      "Epoch 96/100\n",
      "\u001b[1m1/1\u001b[0m \u001b[32m━━━━━━━━━━━━━━━━━━━━\u001b[0m\u001b[37m\u001b[0m \u001b[1m1s\u001b[0m 617ms/step - AUC: 1.0000 - accuracy: 1.0000 - loss: 0.1246 - val_AUC: 1.0000 - val_accuracy: 1.0000 - val_loss: 0.0428\n",
      "Epoch 97/100\n",
      "\u001b[1m1/1\u001b[0m \u001b[32m━━━━━━━━━━━━━━━━━━━━\u001b[0m\u001b[37m\u001b[0m \u001b[1m0s\u001b[0m 436ms/step - AUC: 1.0000 - accuracy: 1.0000 - loss: 0.0855 - val_AUC: 1.0000 - val_accuracy: 1.0000 - val_loss: 0.0415\n",
      "Epoch 98/100\n",
      "\u001b[1m1/1\u001b[0m \u001b[32m━━━━━━━━━━━━━━━━━━━━\u001b[0m\u001b[37m\u001b[0m \u001b[1m1s\u001b[0m 687ms/step - AUC: 1.0000 - accuracy: 1.0000 - loss: 0.0855 - val_AUC: 1.0000 - val_accuracy: 1.0000 - val_loss: 0.0403\n",
      "Epoch 99/100\n",
      "\u001b[1m1/1\u001b[0m \u001b[32m━━━━━━━━━━━━━━━━━━━━\u001b[0m\u001b[37m\u001b[0m \u001b[1m1s\u001b[0m 1s/step - AUC: 1.0000 - accuracy: 1.0000 - loss: 0.0895 - val_AUC: 1.0000 - val_accuracy: 1.0000 - val_loss: 0.0391\n",
      "Epoch 100/100\n",
      "\u001b[1m1/1\u001b[0m \u001b[32m━━━━━━━━━━━━━━━━━━━━\u001b[0m\u001b[37m\u001b[0m \u001b[1m1s\u001b[0m 664ms/step - AUC: 1.0000 - accuracy: 1.0000 - loss: 0.1066 - val_AUC: 1.0000 - val_accuracy: 1.0000 - val_loss: 0.0380\n"
     ]
    }
   ],
   "source": [
    "es = keras.callbacks.EarlyStopping(\n",
    "    monitor=\"val_loss\", patience=10, restore_best_weights=True\n",
    ")\n",
    "\n",
    "history = model.fit(\n",
    "    X_train, y_train,\n",
    "    validation_data=(X_val, y_val),\n",
    "    epochs=100, batch_size=32,\n",
    "    callbacks=[es], verbose=1\n",
    ")"
   ]
  },
  {
   "cell_type": "markdown",
   "id": "8b65407e",
   "metadata": {},
   "source": [
    "Langkah 4 — Evaluasi di Test Set"
   ]
  },
  {
   "cell_type": "code",
   "execution_count": 5,
   "id": "d40429fa",
   "metadata": {},
   "outputs": [
    {
     "name": "stdout",
     "output_type": "stream",
     "text": [
      "Test Acc: 1.0 AUC: 1.0\n",
      "\u001b[1m1/1\u001b[0m \u001b[32m━━━━━━━━━━━━━━━━━━━━\u001b[0m\u001b[37m\u001b[0m \u001b[1m1s\u001b[0m 598ms/step\n",
      "[[1 0]\n",
      " [0 1]]\n",
      "              precision    recall  f1-score   support\n",
      "\n",
      "           0      1.000     1.000     1.000         1\n",
      "           1      1.000     1.000     1.000         1\n",
      "\n",
      "    accuracy                          1.000         2\n",
      "   macro avg      1.000     1.000     1.000         2\n",
      "weighted avg      1.000     1.000     1.000         2\n",
      "\n"
     ]
    }
   ],
   "source": [
    "from sklearn.metrics import classification_report, confusion_matrix\n",
    "\n",
    "loss, acc, auc = model.evaluate(X_test, y_test, verbose=0)\n",
    "print(\"Test Acc:\", acc, \"AUC:\", auc)\n",
    "\n",
    "y_proba = model.predict(X_test).ravel()\n",
    "y_pred = (y_proba >= 0.5).astype(int)\n",
    "\n",
    "print(confusion_matrix(y_test, y_pred))\n",
    "print(classification_report(y_test, y_pred, digits=3))"
   ]
  },
  {
   "cell_type": "markdown",
   "id": "fc83447a",
   "metadata": {},
   "source": [
    "Langkah 5 — Visualisasi Learning Curve"
   ]
  },
  {
   "cell_type": "code",
   "execution_count": 6,
   "id": "040756fd",
   "metadata": {},
   "outputs": [
    {
     "data": {
      "image/png": "[encoded data removed]",
      "text/plain": [
       "<Figure size 640x480 with 1 Axes>"
      ]
     },
     "metadata": {},
     "output_type": "display_data"
    }
   ],
   "source": [
    "import matplotlib.pyplot as plt\n",
    "\n",
    "plt.plot(history.history[\"loss\"], label=\"Train Loss\")\n",
    "plt.plot(history.history[\"val_loss\"], label=\"Val Loss\")\n",
    "plt.xlabel(\"Epoch\"); plt.ylabel(\"Loss\"); plt.legend()\n",
    "plt.title(\"Learning Curve\")\n",
    "plt.tight_layout(); plt.savefig(\"learning_curve.png\", dpi=120)"
   ]
  },
  {
   "cell_type": "code",
   "execution_count": null,
   "id": "dae065de",
   "metadata": {},
   "outputs": [],
   "source": []
  }
 ],
 "metadata": {
  "kernelspec": {
   "display_name": ".venv",
   "language": "python",
   "name": "python3"
  },
  "language_info": {
   "codemirror_mode": {
    "name": "ipython",
    "version": 3
   },
   "file_extension": ".py",
   "mimetype": "text/x-python",
   "name": "python",
   "nbconvert_exporter": "python",
   "pygments_lexer": "ipython3",
   "version": "3.10.11"
  }
 },
 "nbformat": 4,
 "nbformat_minor": 5
}
