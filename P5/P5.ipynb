{
 "cells": [
  {
   "cell_type": "markdown",
   "id": "f2807e95",
   "metadata": {},
   "source": [
    "Langkah 1 — Muat Data\n",
    "Pilihan A (pakai file split dari Pertemuan 4):"
   ]
  },
  {
   "cell_type": "code",
   "execution_count": 2,
   "id": "e0c65f56",
   "metadata": {},
   "outputs": [
    {
     "name": "stdout",
     "output_type": "stream",
     "text": [
      "(6, 5) (2, 5) (2, 5)\n"
     ]
    }
   ],
   "source": [
    "import pandas as pd\n",
    "\n",
    "X_train = pd.read_csv(\"../P4/X_train.csv\")\n",
    "X_val   = pd.read_csv(\"../P4/X_val.csv\")\n",
    "X_test  = pd.read_csv(\"../P4/X_test.csv\")\n",
    "y_train = pd.read_csv(\"../P4/y_train.csv\").squeeze(\"columns\")\n",
    "y_val   = pd.read_csv(\"../P4/y_val.csv\").squeeze(\"columns\")\n",
    "y_test  = pd.read_csv(\"../P4/y_test.csv\").squeeze(\"columns\")\n",
    "\n",
    "print(X_train.shape, X_val.shape, X_test.shape)"
   ]
  },
  {
   "cell_type": "markdown",
   "id": "eb6fdb0d",
   "metadata": {},
   "source": [
    "Langkah 2 — Baseline Model & Pipeline\n",
    "Bangun baseline terstandar menggunakan Logistic Regression + pipeline preprocessing."
   ]
  },
  {
   "cell_type": "code",
   "execution_count": 3,
   "id": "8b580467",
   "metadata": {},
   "outputs": [
    {
     "name": "stdout",
     "output_type": "stream",
     "text": [
      "Baseline (LogReg) F1(val): 1.0\n",
      "              precision    recall  f1-score   support\n",
      "\n",
      "           0      1.000     1.000     1.000         1\n",
      "           1      1.000     1.000     1.000         1\n",
      "\n",
      "    accuracy                          1.000         2\n",
      "   macro avg      1.000     1.000     1.000         2\n",
      "weighted avg      1.000     1.000     1.000         2\n",
      "\n"
     ]
    }
   ],
   "source": [
    "from sklearn.pipeline import Pipeline\n",
    "from sklearn.compose import ColumnTransformer\n",
    "from sklearn.preprocessing import StandardScaler\n",
    "from sklearn. impute import SimpleImputer\n",
    "from sklearn.linear_model import LogisticRegression\n",
    "from sklearn.metrics import f1_score, classification_report\n",
    "\n",
    "num_cols = X_train.select_dtypes(include=\"number\").columns\n",
    "\n",
    "pre = ColumnTransformer([\n",
    "    (\"num\", Pipeline([(\"imp\", SimpleImputer(strategy=\"median\")),\n",
    "                    (\"sc\", StandardScaler())]), num_cols),\n",
    "], remainder=\"drop\")\n",
    "\n",
    "logreg = LogisticRegression(max_iter=1000, class_weight=\"balanced\", random_state=42)\n",
    "pipe_lr = Pipeline([(\"pre\", pre),(\"clf\", logreg)])\n",
    "\n",
    "pipe_lr.fit(X_train, y_train)\n",
    "y_val_pred = pipe_lr.predict(X_val)\n",
    "print(\"Baseline (LogReg) F1(val):\", f1_score(y_val, y_val_pred, average=\"macro\"))\n",
    "print(classification_report(y_val, y_val_pred, digits=3))"
   ]
  },
  {
   "cell_type": "markdown",
   "id": "b98c7347",
   "metadata": {},
   "source": [
    "Langkah 3 — Model Alternatif (Random Forest)"
   ]
  },
  {
   "cell_type": "code",
   "execution_count": 4,
   "id": "86a35e09",
   "metadata": {},
   "outputs": [
    {
     "name": "stdout",
     "output_type": "stream",
     "text": [
      "RandomForest F1(val): 1.0\n"
     ]
    }
   ],
   "source": [
    "from sklearn.ensemble import RandomForestClassifier\n",
    "\n",
    "rf = RandomForestClassifier(\n",
    "    n_estimators=300, max_features=\"sqrt\", class_weight=\"balanced\", random_state=42\n",
    "    )\n",
    "pipe_rf = Pipeline([(\"pre\",pre), (\"clf\", rf)])\n",
    "\n",
    "pipe_rf.fit(X_train, y_train)\n",
    "y_val_rf = pipe_rf.predict(X_val)\n",
    "print(\"RandomForest F1(val):\", f1_score(y_val, y_val_rf, average=\"macro\"))"
   ]
  },
  {
   "cell_type": "markdown",
   "id": "4adefff1",
   "metadata": {},
   "source": [
    "Langkah 4 — Validasi Silang & Tuning Ringkas"
   ]
  },
  {
   "cell_type": "code",
   "execution_count": 5,
   "id": "fd22858e",
   "metadata": {},
   "outputs": [
    {
     "name": "stdout",
     "output_type": "stream",
     "text": [
      "Fitting 3 folds for each of 12 candidates, totalling 36 fits\n",
      "Best params: {'clf__max_depth': None, 'clf__min_samples_split': 2}\n",
      "Best CV F1: 1.0\n",
      "Best RF F1(val): 1.0\n"
     ]
    }
   ],
   "source": [
    "from sklearn.model_selection import StratifiedKFold, GridSearchCV\n",
    "\n",
    "skf = StratifiedKFold(n_splits=3, shuffle=True, random_state=42)\n",
    "param = {\n",
    "    \"clf__max_depth\": [None, 12, 20, 30],\n",
    "    \"clf__min_samples_split\": [2, 5, 10]\n",
    "}\n",
    "gs = GridSearchCV(pipe_rf, param_grid=param, cv=skf,\n",
    "                  scoring=\"f1_macro\", n_jobs=-1, verbose=1)\n",
    "gs.fit(X_train, y_train)\n",
    "print (\"Best params:\", gs.best_params_)\n",
    "print (\"Best CV F1:\", gs.best_score_)\n",
    "\n",
    "best_rf = gs.best_estimator_\n",
    "y_val_best = best_rf.predict(X_val)\n",
    "print(\"Best RF F1(val):\", f1_score(y_val, y_val_best, average=\"macro\"))"
   ]
  },
  {
   "cell_type": "markdown",
   "id": "a518d64e",
   "metadata": {},
   "source": [
    "Langkah 5 — Evaluasi Akhir (Test Set)"
   ]
  },
  {
   "cell_type": "code",
   "execution_count": 6,
   "id": "dae20a8d",
   "metadata": {},
   "outputs": [
    {
     "name": "stdout",
     "output_type": "stream",
     "text": [
      "F1(test): 1.0\n",
      "              precision    recall  f1-score   support\n",
      "\n",
      "           0      1.000     1.000     1.000         1\n",
      "           1      1.000     1.000     1.000         1\n",
      "\n",
      "    accuracy                          1.000         2\n",
      "   macro avg      1.000     1.000     1.000         2\n",
      "weighted avg      1.000     1.000     1.000         2\n",
      "\n",
      "Confusion matrix (test):\n",
      "[[1 0]\n",
      " [0 1]]\n",
      "ROC-AUC(test): 1.0\n"
     ]
    },
    {
     "data": {
      "image/png": "[encoded data removed]",
      "text/plain": [
       "<Figure size 640x480 with 1 Axes>"
      ]
     },
     "metadata": {},
     "output_type": "display_data"
    }
   ],
   "source": [
    "from sklearn.metrics import confusion_matrix, roc_auc_score, precision_recall_curve, roc_curve\n",
    "import matplotlib.pyplot as plt\n",
    "\n",
    "final_model = best_rf  # atau pipe_lr jika baseline lebih baik\n",
    "y_test_pred = final_model.predict(X_test)\n",
    "\n",
    "print(\"F1(test):\", f1_score(y_test, y_test_pred, average=\"macro\"))\n",
    "print(classification_report(y_test, y_test_pred, digits=3))\n",
    "print(\"Confusion matrix (test):\")\n",
    "print(confusion_matrix(y_test, y_test_pred))\n",
    "\n",
    "# ROC-AUC (jika ada predict_proba)\n",
    "if hasattr(final_model, \"predict_proba\"):\n",
    "    y_test_proba = final_model.predict_proba(X_test)[:,1]\n",
    "    try:\n",
    "        print(\"ROC-AUC(test):\", roc_auc_score(y_test, y_test_proba))\n",
    "    except:\n",
    "        pass\n",
    "    fpr, tpr, _ = roc_curve(y_test, y_test_proba)\n",
    "    plt.figure(); plt.plot(fpr, tpr); plt.xlabel(\"FPR\"); plt.ylabel(\"TPR\"); plt.title(\"ROC (test)\")\n",
    "    plt.tight_layout(); plt.savefig(\"roc_test.png\", dpi=120)"
   ]
  },
  {
   "cell_type": "code",
   "execution_count": 7,
   "id": "945ee052",
   "metadata": {},
   "outputs": [
    {
     "name": "stdout",
     "output_type": "stream",
     "text": [
      "Lulus\n",
      "1    3\n",
      "0    3\n",
      "Name: count, dtype: int64\n",
      "Lulus\n",
      "0    1\n",
      "1    1\n",
      "Name: count, dtype: int64\n",
      "Lulus\n",
      "0    1\n",
      "1    1\n",
      "Name: count, dtype: int64\n"
     ]
    }
   ],
   "source": [
    "print(y_train.value_counts())\n",
    "print(y_val.value_counts())\n",
    "print(y_test.value_counts())\n"
   ]
  },
  {
   "cell_type": "markdown",
   "id": "7b030f42",
   "metadata": {},
   "source": [
    "Langkah 6 (Opsional) — Simpan Model"
   ]
  },
  {
   "cell_type": "code",
   "execution_count": 8,
   "id": "9e9d24db",
   "metadata": {},
   "outputs": [
    {
     "name": "stdout",
     "output_type": "stream",
     "text": [
      "Model tersimpan ke model.pkl\n"
     ]
    }
   ],
   "source": [
    "import joblib\n",
    "joblib.dump(final_model, \"model.pkl\")\n",
    "print(\"Model tersimpan ke model.pkl\")"
   ]
  },
  {
   "cell_type": "markdown",
   "id": "c3b22f25",
   "metadata": {},
   "source": [
    "Langkah 7 (Opsional) — Endpoint Inference (Flask)"
   ]
  },
  {
   "cell_type": "code",
   "execution_count": 9,
   "id": "06344dcc",
   "metadata": {},
   "outputs": [
    {
     "name": "stdout",
     "output_type": "stream",
     "text": [
      " * Serving Flask app '__main__'\n",
      " * Debug mode: off\n"
     ]
    },
    {
     "name": "stderr",
     "output_type": "stream",
     "text": [
      "WARNING: This is a development server. Do not use it in a production deployment. Use a production WSGI server instead.\n",
      " * Running on http://127.0.0.1:5000\n",
      "Press CTRL+C to quit\n",
      "127.0.0.1 - - [23/Oct/2025 01:25:53] \"POST /predict HTTP/1.1\" 400 -\n",
      "127.0.0.1 - - [23/Oct/2025 01:25:57] \"GET / HTTP/1.1\" 404 -\n",
      "127.0.0.1 - - [23/Oct/2025 01:27:38] \"POST /predict HTTP/1.1\" 400 -\n",
      "127.0.0.1 - - [23/Oct/2025 01:28:43] \"POST /predict HTTP/1.1\" 200 -\n"
     ]
    }
   ],
   "source": [
    "from flask import Flask, request, jsonify\n",
    "import joblib, pandas as pd\n",
    "\n",
    "app = Flask(__name__)\n",
    "MODEL = joblib.load(\"model.pkl\")\n",
    "\n",
    "@app.route(\"/predict\", methods=[\"POST\"])\n",
    "def predict():\n",
    "    data = request.get_json(force=True)  # dict fitur\n",
    "    X = pd.DataFrame([data])\n",
    "    yhat = MODEL.predict(X)[0]\n",
    "    proba = None\n",
    "    if hasattr(MODEL, \"predict_proba\"):\n",
    "        proba = float(MODEL.predict_proba(X)[:,1][0])\n",
    "    return jsonify({\"prediction\": int(yhat), \"proba\": proba})\n",
    "\n",
    "if __name__ == \"__main__\":\n",
    "    app.run(port=5000)"
   ]
  },
  {
   "cell_type": "markdown",
   "id": "265272c4",
   "metadata": {},
   "source": [
    "tes menggunakan stratifiedKfold"
   ]
  },
  {
   "cell_type": "code",
   "execution_count": null,
   "id": "43d29ce3",
   "metadata": {},
   "outputs": [
    {
     "name": "stdout",
     "output_type": "stream",
     "text": [
      "Distribusi kelas:\n",
      "Lulus\n",
      "1    5\n",
      "0    5\n",
      "Name: count, dtype: int64\n",
      "\n",
      "Jumlah fold (n_splits): 5\n"
     ]
    },
    {
     "name": "stdout",
     "output_type": "stream",
     "text": [
      "\n",
      "F1_macro (mean ± std): 1.000 ± 0.000\n",
      "Skor tiap fold: [1. 1. 1. 1. 1.]\n",
      "\n",
      "Classification Report (OOF):\n",
      "              precision    recall  f1-score   support\n",
      "\n",
      "           0      1.000     1.000     1.000         5\n",
      "           1      1.000     1.000     1.000         5\n",
      "\n",
      "    accuracy                          1.000        10\n",
      "   macro avg      1.000     1.000     1.000        10\n",
      "weighted avg      1.000     1.000     1.000        10\n",
      "\n",
      "Confusion Matrix (OOF):\n",
      "[[5 0]\n",
      " [0 5]]\n",
      "ROC-AUC (OOF): 1.000\n"
     ]
    },
    {
     "data": {
      "image/png": "[encoded data removed]",
      "text/plain": [
       "<Figure size 640x480 with 1 Axes>"
      ]
     },
     "metadata": {},
     "output_type": "display_data"
    },
    {
     "name": "stdout",
     "output_type": "stream",
     "text": [
      "Fitting 5 folds for each of 4 candidates, totalling 20 fits\n",
      "Best params: {'clf__C': 0.01}\n",
      "Best CV F1: 1.0\n"
     ]
    }
   ],
   "source": [
    "# # ========================\n",
    "# # 1️⃣ Import Library\n",
    "# # ========================\n",
    "# import pandas as pd\n",
    "# import numpy as np\n",
    "# from sklearn.model_selection import StratifiedKFold, cross_val_score, cross_val_predict, GridSearchCV\n",
    "# from sklearn.pipeline import Pipeline\n",
    "# from sklearn.compose import ColumnTransformer\n",
    "# from sklearn.preprocessing import StandardScaler\n",
    "# from sklearn.impute import SimpleImputer\n",
    "# from sklearn.linear_model import LogisticRegression\n",
    "# from sklearn.metrics import classification_report, confusion_matrix, roc_curve, roc_auc_score\n",
    "# import matplotlib.pyplot as plt\n",
    "\n",
    "# # ========================\n",
    "# # 2️⃣ Load Data\n",
    "# # ========================\n",
    "# df = pd.read_csv(\"../P4/processed_kelulusan.csv\")\n",
    "# X = df.drop(\"Lulus\", axis=1)\n",
    "# y = df[\"Lulus\"]\n",
    "\n",
    "# # ========================\n",
    "# # 3️⃣ Cek distribusi data\n",
    "# # ========================\n",
    "# print(\"Distribusi kelas:\")\n",
    "# print(y.value_counts())\n",
    "\n",
    "# # Hitung jumlah minimal per kelas untuk menentukan jumlah fold yang aman\n",
    "# min_count = int(y.value_counts().min())\n",
    "# n_splits = min(5, min_count) if min_count >= 2 else 2\n",
    "# print(f\"\\nJumlah fold (n_splits): {n_splits}\")\n",
    "\n",
    "# # ========================\n",
    "# # 4️⃣ Pipeline preprocessing + model\n",
    "# # ========================\n",
    "# num_cols = X.select_dtypes(include=\"number\").columns\n",
    "\n",
    "# preprocessor = ColumnTransformer([\n",
    "#     (\"num\", Pipeline([\n",
    "#         (\"imputer\", SimpleImputer(strategy=\"median\")),\n",
    "#         (\"scaler\", StandardScaler())\n",
    "#     ]), num_cols)\n",
    "# ], remainder=\"drop\")\n",
    "\n",
    "# pipe = Pipeline([\n",
    "#     (\"preprocessor\", preprocessor),\n",
    "#     (\"clf\", LogisticRegression(max_iter=1000, class_weight=\"balanced\", random_state=42))\n",
    "# ])\n",
    "\n",
    "# # ========================\n",
    "# # 5️⃣ Cross Validation Evaluation\n",
    "# # ========================\n",
    "# cv = StratifiedKFold(n_splits=n_splits, shuffle=True, random_state=42)\n",
    "\n",
    "# # Hitung skor F1 rata-rata\n",
    "# scores = cross_val_score(pipe, X, y, cv=cv, scoring=\"f1_macro\", n_jobs=-1)\n",
    "# print(\"\\nF1_macro (mean ± std): {:.3f} ± {:.3f}\".format(scores.mean(), scores.std()))\n",
    "# print(\"Skor tiap fold:\", scores)\n",
    "\n",
    "# # ========================\n",
    "# # 6️⃣ Prediksi out-of-fold untuk analisis mendalam\n",
    "# # ========================\n",
    "# y_pred_oof = cross_val_predict(pipe, X, y, cv=cv, method=\"predict\", n_jobs=-1)\n",
    "\n",
    "# print(\"\\nClassification Report (OOF):\")\n",
    "# print(classification_report(y, y_pred_oof, digits=3))\n",
    "\n",
    "# print(\"Confusion Matrix (OOF):\")\n",
    "# print(confusion_matrix(y, y_pred_oof))\n",
    "\n",
    "# # ========================\n",
    "# # 7️⃣ ROC Curve dan AUC (out-of-fold)\n",
    "# # ========================\n",
    "# try:\n",
    "#     y_proba_oof = cross_val_predict(pipe, X, y, cv=cv, method=\"predict_proba\", n_jobs=-1)[:, 1]\n",
    "#     auc = roc_auc_score(y, y_proba_oof)\n",
    "#     print(\"ROC-AUC (OOF): {:.3f}\".format(auc))\n",
    "    \n",
    "#     fpr, tpr, _ = roc_curve(y, y_proba_oof)\n",
    "#     plt.figure()\n",
    "#     plt.plot(fpr, tpr, label=f\"AUC = {auc:.3f}\")\n",
    "#     plt.plot([0, 1], [0, 1], \"--\", color=\"gray\")\n",
    "#     plt.xlabel(\"FPR\")\n",
    "#     plt.ylabel(\"TPR\")\n",
    "#     plt.title(\"ROC Curve (Cross-Validation)\")\n",
    "#     plt.legend()\n",
    "#     plt.show()\n",
    "# except Exception as e:\n",
    "#     print(\"ROC-AUC tidak dapat dihitung:\", e)\n",
    "\n",
    "# # ========================\n",
    "# # 8️⃣ (Opsional) Hyperparameter Tuning\n",
    "# # ========================\n",
    "# param_grid = {\n",
    "#     \"clf__C\": [0.01, 0.1, 1, 10],\n",
    "# }\n",
    "# gs = GridSearchCV(pipe, param_grid, cv=cv, scoring=\"f1_macro\", n_jobs=-1, verbose=1)\n",
    "# gs.fit(X, y)\n",
    "# print(\"Best params:\", gs.best_params_)\n",
    "# print(\"Best CV F1:\", gs.best_score_)\n",
    "\n"
   ]
  },
  {
   "cell_type": "code",
   "execution_count": null,
   "id": "2c2dbaa1",
   "metadata": {},
   "outputs": [],
   "source": []
  }
 ],
 "metadata": {
  "kernelspec": {
   "display_name": ".venv",
   "language": "python",
   "name": "python3"
  },
  "language_info": {
   "codemirror_mode": {
    "name": "ipython",
    "version": 3
   },
   "file_extension": ".py",
   "mimetype": "text/x-python",
   "name": "python",
   "nbconvert_exporter": "python",
   "pygments_lexer": "ipython3",
   "version": "3.10.11"
  }
 },
 "nbformat": 4,
 "nbformat_minor": 5
}
